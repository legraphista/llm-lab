{
 "cells": [
  {
   "cell_type": "markdown",
   "metadata": {},
   "source": [
    "# Evaluation of the finetuned model checkpoints\n",
    "\n",
    "This is a simplified version of the evaluation notebook, without charts, just running all checkpoints and saving the results."
   ]
  },
  {
   "cell_type": "code",
   "execution_count": 15,
   "metadata": {},
   "outputs": [
    {
     "name": "stderr",
     "output_type": "stream",
     "text": [
      "huggingface/tokenizers: The current process just got forked, after parallelism has already been used. Disabling parallelism to avoid deadlocks...\n",
      "To disable this warning, you can either:\n",
      "\t- Avoid using `tokenizers` before the fork if possible\n",
      "\t- Explicitly set the environment variable TOKENIZERS_PARALLELISM=(true | false)\n"
     ]
    },
    {
     "name": "stdout",
     "output_type": "stream",
     "text": [
      "\n",
      "\u001b[1m[\u001b[0m\u001b[34;49mnotice\u001b[0m\u001b[1;39;49m]\u001b[0m\u001b[39;49m A new release of pip is available: \u001b[0m\u001b[31;49m23.0.1\u001b[0m\u001b[39;49m -> \u001b[0m\u001b[32;49m24.3.1\u001b[0m\n",
      "\u001b[1m[\u001b[0m\u001b[34;49mnotice\u001b[0m\u001b[1;39;49m]\u001b[0m\u001b[39;49m To update, run: \u001b[0m\u001b[32;49mpip install --upgrade pip\u001b[0m\n"
     ]
    }
   ],
   "source": [
    "!pip install -q transformers datasets torch unsloth ipywidgets scikit-learn numpy plotly pandas matplotlib hf_transfer natsort huggingface_hub\n",
    "import os\n",
    "os.environ['HF_HUB_ENABLE_HF_TRANSFER'] = '1'"
   ]
  },
  {
   "cell_type": "markdown",
   "metadata": {},
   "source": [
    "Loading the dataset:"
   ]
  },
  {
   "cell_type": "code",
   "execution_count": 2,
   "metadata": {},
   "outputs": [
    {
     "data": {
      "text/plain": [
       "DatasetDict({\n",
       "    train: Dataset({\n",
       "        features: ['question_number', 'question', 'type', 'options', 'grade', 'stage', 'year', 'right_answer', 'source', 'id_in_source', 'dupe_id'],\n",
       "        num_rows: 11368\n",
       "    })\n",
       "    validation: Dataset({\n",
       "        features: ['question_number', 'question', 'type', 'options', 'grade', 'stage', 'year', 'right_answer', 'source', 'id_in_source', 'dupe_id'],\n",
       "        num_rows: 1376\n",
       "    })\n",
       "    test: Dataset({\n",
       "        features: ['question_number', 'question', 'type', 'options', 'grade', 'stage', 'year', 'right_answer', 'source', 'id_in_source', 'dupe_id'],\n",
       "        num_rows: 1388\n",
       "    })\n",
       "})"
      ]
     },
     "execution_count": 2,
     "metadata": {},
     "output_type": "execute_result"
    }
   ],
   "source": [
    "from datasets import load_dataset\n",
    "\n",
    "dataset = load_dataset(\"RoBiology/RoBiologyDataChoiceQA\")\n",
    "dataset"
   ]
  },
  {
   "cell_type": "code",
   "execution_count": 3,
   "metadata": {},
   "outputs": [
    {
     "data": {
      "text/plain": [
       "Dataset({\n",
       "    features: ['question_number', 'question', 'type', 'options', 'grade', 'stage', 'year', 'right_answer', 'source', 'id_in_source', 'dupe_id'],\n",
       "    num_rows: 588\n",
       "})"
      ]
     },
     "execution_count": 3,
     "metadata": {},
     "output_type": "execute_result"
    }
   ],
   "source": [
    "test_ds = dataset['test'].filter(lambda x: x['type'] == 'single-choice')\n",
    "test_ds"
   ]
  },
  {
   "cell_type": "markdown",
   "metadata": {},
   "source": [
    "Setup storage location:"
   ]
  },
  {
   "cell_type": "code",
   "execution_count": 4,
   "metadata": {},
   "outputs": [],
   "source": [
    "try:\n",
    "    from google.colab import drive\n",
    "    IN_COLAB = True\n",
    "except ImportError:\n",
    "    IN_COLAB = False\n",
    "\n",
    "try:\n",
    "    drive.mount('/content/drive')\n",
    "    DRIVE_MOUNTED = True\n",
    "except Exception:\n",
    "    DRIVE_MOUNTED = False\n",
    "\n",
    "if not IN_COLAB:\n",
    "    final_model_path = './lora_model'\n",
    "    checkpoints_path = './checkpoints'\n",
    "else:\n",
    "    if DRIVE_MOUNTED:\n",
    "        final_model_path = '/content/drive/MyDrive/Colab Notebooks/finetuning/lora_model'\n",
    "        checkpoints_path = '/content/drive/MyDrive/Colab Notebooks/finetuning/checkpoints'\n",
    "    else:\n",
    "        raise Exception(\"Drive not mounted\")"
   ]
  },
  {
   "cell_type": "markdown",
   "metadata": {},
   "source": [
    "## Setting up the input chat prompts"
   ]
  },
  {
   "cell_type": "markdown",
   "metadata": {},
   "source": [
    "Pre-download the base model\n",
    "\n",
    "We pre-download the base model because it is faster and unsloth doesn't give us feedback on the download progress."
   ]
  },
  {
   "cell_type": "code",
   "execution_count": 16,
   "metadata": {},
   "outputs": [
    {
     "data": {
      "application/vnd.jupyter.widget-view+json": {
       "model_id": "8960ae36e23f495fa949bd7d52f69b7d",
       "version_major": 2,
       "version_minor": 0
      },
      "text/plain": [
       ".gitattributes:   0%|          | 0.00/1.57k [00:00<?, ?B/s]"
      ]
     },
     "metadata": {},
     "output_type": "display_data"
    },
    {
     "data": {
      "application/vnd.jupyter.widget-view+json": {
       "model_id": "bf6d23d565514b069c6b086619740c51",
       "version_major": 2,
       "version_minor": 0
      },
      "text/plain": [
       "README.md:   0%|          | 0.00/5.55k [00:00<?, ?B/s]"
      ]
     },
     "metadata": {},
     "output_type": "display_data"
    },
    {
     "data": {
      "text/plain": [
       "'/home/stefan/.cache/huggingface/hub/models--unsloth--Llama-3.2-3B-Instruct/snapshots/bc836a93eabc97432d7be9faedddf045ca7ad8fc'"
      ]
     },
     "execution_count": 16,
     "metadata": {},
     "output_type": "execute_result"
    }
   ],
   "source": [
    "from huggingface_hub import snapshot_download\n",
    "import json\n",
    "\n",
    "# read the final model adapter config\n",
    "with open(os.path.join(final_model_path, 'adapter_config.json'), 'r') as f:\n",
    "    adapter_config = json.load(f)\n",
    "    base_model_name_or_path = adapter_config['base_model_name_or_path']\n",
    "\n",
    "# download the final model adapter\n",
    "snapshot_download(base_model_name_or_path)"
   ]
  },
  {
   "cell_type": "markdown",
   "metadata": {},
   "source": [
    "Load tokenizer:"
   ]
  },
  {
   "cell_type": "code",
   "execution_count": 5,
   "metadata": {},
   "outputs": [],
   "source": [
    "from transformers import AutoTokenizer\n",
    "\n",
    "tokenizer = AutoTokenizer.from_pretrained(final_model_path)"
   ]
  },
  {
   "cell_type": "code",
   "execution_count": 6,
   "metadata": {},
   "outputs": [],
   "source": [
    "def create_chat_prompt(instruction: str, input: str, response: str|None = None):\n",
    "    return tokenizer.apply_chat_template(\n",
    "        [\n",
    "            {\"role\": \"system\", \"content\": instruction},\n",
    "            {\"role\": \"user\", \"content\": input},\n",
    "            *([{\"role\": \"assistant\", \"content\": response}] if response else []),\n",
    "        ],\n",
    "        tokenize=False,\n",
    "        add_generation_prompt=True,\n",
    "    )"
   ]
  },
  {
   "cell_type": "code",
   "execution_count": 7,
   "metadata": {},
   "outputs": [
    {
     "name": "stdout",
     "output_type": "stream",
     "text": [
      "<|begin_of_text|><|start_header_id|>system<|end_header_id|>\n",
      "\n",
      "Cutting Knowledge Date: December 2023\n",
      "Today Date: 07 Dec 2024\n",
      "\n",
      "Answer the question based on the given options. Respond by writing only the letter of the correct answer.<|eot_id|><|start_header_id|>user<|end_header_id|>\n",
      "\n",
      "Următorul reflex este monosinaptic:\n",
      "A. rotulian\n",
      "B. cardioaccelerator\n",
      "C. de apărare\n",
      "D. vasoconstrictor<|eot_id|><|start_header_id|>assistant<|end_header_id|>\n",
      "\n",
      "\n"
     ]
    }
   ],
   "source": [
    "instuction = \"Answer the question based on the given options. Respond by writing only the letter of the correct answer.\"\n",
    "\n",
    "print(create_chat_prompt(\n",
    "    instuction,\n",
    "    \"\\n\".join([test_ds[0][\"question\"]] + test_ds[0][\"options\"]),\n",
    "    # test_ds[0][\"right_answer\"],\n",
    "))"
   ]
  },
  {
   "cell_type": "markdown",
   "metadata": {},
   "source": [
    "Create chat prompts for all test dataset entries:"
   ]
  },
  {
   "cell_type": "code",
   "execution_count": 8,
   "metadata": {},
   "outputs": [],
   "source": [
    "test_ds = test_ds.map(lambda x: {\n",
    "    \"chat\": create_chat_prompt(instuction, '\\n'.join([x['question']] + x['options'])) \n",
    "})"
   ]
  },
  {
   "cell_type": "markdown",
   "metadata": {},
   "source": [
    "## Running all checkpoints"
   ]
  },
  {
   "cell_type": "markdown",
   "metadata": {},
   "source": [
    "Read all checkpoints:"
   ]
  },
  {
   "cell_type": "code",
   "execution_count": 9,
   "metadata": {},
   "outputs": [
    {
     "data": {
      "text/plain": [
       "['./checkpoints/checkpoint-100',\n",
       " './checkpoints/checkpoint-200',\n",
       " './checkpoints/checkpoint-300',\n",
       " './checkpoints/checkpoint-400',\n",
       " './checkpoints/checkpoint-500',\n",
       " './checkpoints/checkpoint-600',\n",
       " './checkpoints/checkpoint-700',\n",
       " './checkpoints/checkpoint-800',\n",
       " './checkpoints/checkpoint-900',\n",
       " './checkpoints/checkpoint-1000',\n",
       " './checkpoints/checkpoint-1100',\n",
       " './checkpoints/checkpoint-1200',\n",
       " './checkpoints/checkpoint-1300',\n",
       " './checkpoints/checkpoint-1400',\n",
       " './checkpoints/checkpoint-1500',\n",
       " './checkpoints/checkpoint-1600',\n",
       " './checkpoints/checkpoint-1700',\n",
       " './checkpoints/checkpoint-1800',\n",
       " './checkpoints/checkpoint-1900',\n",
       " './checkpoints/checkpoint-2000',\n",
       " './checkpoints/checkpoint-2100',\n",
       " './checkpoints/checkpoint-2200',\n",
       " './checkpoints/checkpoint-2300',\n",
       " './checkpoints/checkpoint-2400',\n",
       " './checkpoints/checkpoint-2500',\n",
       " './checkpoints/checkpoint-2600',\n",
       " './checkpoints/checkpoint-2700',\n",
       " './checkpoints/checkpoint-2800',\n",
       " './checkpoints/checkpoint-2900',\n",
       " './checkpoints/checkpoint-3000',\n",
       " './checkpoints/checkpoint-3035']"
      ]
     },
     "execution_count": 9,
     "metadata": {},
     "output_type": "execute_result"
    }
   ],
   "source": [
    "from natsort import natsorted\n",
    "\n",
    "checkpoints = [os.path.join(checkpoints_path, f) for f in os.listdir(checkpoints_path)]\n",
    "\n",
    "checkpoints = natsorted(checkpoints)\n",
    "\n",
    "# if last checkpoint is not the final model, add it\n",
    "# checkpoints += [final_model_path]\n",
    "\n",
    "checkpoints"
   ]
  },
  {
   "cell_type": "markdown",
   "metadata": {},
   "source": [
    "Test all the checkpoints models:"
   ]
  },
  {
   "cell_type": "code",
   "execution_count": 10,
   "metadata": {},
   "outputs": [
    {
     "name": "stdout",
     "output_type": "stream",
     "text": [
      "🦥 Unsloth: Will patch your computer to enable 2x faster free finetuning.\n",
      "🦥 Unsloth Zoo will now patch everything to make training faster!\n"
     ]
    },
    {
     "data": {
      "application/vnd.jupyter.widget-view+json": {
       "model_id": "b5fb0afd3b5d44bc91c6085f5999cae6",
       "version_major": 2,
       "version_minor": 0
      },
      "text/plain": [
       "Running checkpoints:   0%|          | 0/31 [00:00<?, ?it/s]"
      ]
     },
     "metadata": {},
     "output_type": "display_data"
    },
    {
     "name": "stdout",
     "output_type": "stream",
     "text": [
      "./checkpoints/checkpoint-100\n"
     ]
    },
    {
     "name": "stderr",
     "output_type": "stream",
     "text": [
      "Unsloth 2024.12.2 patched 28 layers with 28 QKV layers, 28 O layers and 28 MLP layers.\n"
     ]
    },
    {
     "data": {
      "application/vnd.jupyter.widget-view+json": {
       "model_id": "cf347c1de1d84025b241fe45c68a02aa",
       "version_major": 2,
       "version_minor": 0
      },
      "text/plain": [
       "  0%|          | 0/588 [00:00<?, ?it/s]"
      ]
     },
     "metadata": {},
     "output_type": "display_data"
    },
    {
     "name": "stdout",
     "output_type": "stream",
     "text": [
      "./checkpoints/checkpoint-200\n"
     ]
    },
    {
     "data": {
      "application/vnd.jupyter.widget-view+json": {
       "model_id": "5ea880fcda5f46babdf58a39a6e44ff6",
       "version_major": 2,
       "version_minor": 0
      },
      "text/plain": [
       "  0%|          | 0/588 [00:00<?, ?it/s]"
      ]
     },
     "metadata": {},
     "output_type": "display_data"
    },
    {
     "name": "stdout",
     "output_type": "stream",
     "text": [
      "./checkpoints/checkpoint-300\n"
     ]
    },
    {
     "data": {
      "application/vnd.jupyter.widget-view+json": {
       "model_id": "d933c332e58f449fae7ca6d01a336865",
       "version_major": 2,
       "version_minor": 0
      },
      "text/plain": [
       "  0%|          | 0/588 [00:00<?, ?it/s]"
      ]
     },
     "metadata": {},
     "output_type": "display_data"
    },
    {
     "name": "stdout",
     "output_type": "stream",
     "text": [
      "./checkpoints/checkpoint-400\n"
     ]
    },
    {
     "data": {
      "application/vnd.jupyter.widget-view+json": {
       "model_id": "9d19a4ce44b749958c2f3041c06e5001",
       "version_major": 2,
       "version_minor": 0
      },
      "text/plain": [
       "  0%|          | 0/588 [00:00<?, ?it/s]"
      ]
     },
     "metadata": {},
     "output_type": "display_data"
    },
    {
     "name": "stdout",
     "output_type": "stream",
     "text": [
      "./checkpoints/checkpoint-500\n"
     ]
    },
    {
     "data": {
      "application/vnd.jupyter.widget-view+json": {
       "model_id": "0dcf38e7c0ca45cd8961504d83ba65ff",
       "version_major": 2,
       "version_minor": 0
      },
      "text/plain": [
       "  0%|          | 0/588 [00:00<?, ?it/s]"
      ]
     },
     "metadata": {},
     "output_type": "display_data"
    },
    {
     "name": "stdout",
     "output_type": "stream",
     "text": [
      "./checkpoints/checkpoint-600\n"
     ]
    },
    {
     "data": {
      "application/vnd.jupyter.widget-view+json": {
       "model_id": "689fa723c9f943b189d6779ada8a6252",
       "version_major": 2,
       "version_minor": 0
      },
      "text/plain": [
       "  0%|          | 0/588 [00:00<?, ?it/s]"
      ]
     },
     "metadata": {},
     "output_type": "display_data"
    },
    {
     "name": "stdout",
     "output_type": "stream",
     "text": [
      "./checkpoints/checkpoint-700\n"
     ]
    },
    {
     "data": {
      "application/vnd.jupyter.widget-view+json": {
       "model_id": "62a9c42d02224d01a577970b1f9f2a7d",
       "version_major": 2,
       "version_minor": 0
      },
      "text/plain": [
       "  0%|          | 0/588 [00:00<?, ?it/s]"
      ]
     },
     "metadata": {},
     "output_type": "display_data"
    },
    {
     "name": "stdout",
     "output_type": "stream",
     "text": [
      "./checkpoints/checkpoint-800\n"
     ]
    },
    {
     "data": {
      "application/vnd.jupyter.widget-view+json": {
       "model_id": "c719e380df214cf8821782c2a335d377",
       "version_major": 2,
       "version_minor": 0
      },
      "text/plain": [
       "  0%|          | 0/588 [00:00<?, ?it/s]"
      ]
     },
     "metadata": {},
     "output_type": "display_data"
    },
    {
     "name": "stdout",
     "output_type": "stream",
     "text": [
      "./checkpoints/checkpoint-900\n"
     ]
    },
    {
     "data": {
      "application/vnd.jupyter.widget-view+json": {
       "model_id": "e1c69d3d135446c4a5ac419fbd95f97b",
       "version_major": 2,
       "version_minor": 0
      },
      "text/plain": [
       "  0%|          | 0/588 [00:00<?, ?it/s]"
      ]
     },
     "metadata": {},
     "output_type": "display_data"
    },
    {
     "name": "stdout",
     "output_type": "stream",
     "text": [
      "./checkpoints/checkpoint-1000\n"
     ]
    },
    {
     "data": {
      "application/vnd.jupyter.widget-view+json": {
       "model_id": "be7efcc326784f84a0dbfbc4b55f3ece",
       "version_major": 2,
       "version_minor": 0
      },
      "text/plain": [
       "  0%|          | 0/588 [00:00<?, ?it/s]"
      ]
     },
     "metadata": {},
     "output_type": "display_data"
    },
    {
     "name": "stdout",
     "output_type": "stream",
     "text": [
      "./checkpoints/checkpoint-1100\n"
     ]
    },
    {
     "data": {
      "application/vnd.jupyter.widget-view+json": {
       "model_id": "c15b33abf40b4c98a103a239d3a9f744",
       "version_major": 2,
       "version_minor": 0
      },
      "text/plain": [
       "  0%|          | 0/588 [00:00<?, ?it/s]"
      ]
     },
     "metadata": {},
     "output_type": "display_data"
    },
    {
     "name": "stdout",
     "output_type": "stream",
     "text": [
      "./checkpoints/checkpoint-1200\n"
     ]
    },
    {
     "data": {
      "application/vnd.jupyter.widget-view+json": {
       "model_id": "7a4290077c774b9986985fcfb5c944ed",
       "version_major": 2,
       "version_minor": 0
      },
      "text/plain": [
       "  0%|          | 0/588 [00:00<?, ?it/s]"
      ]
     },
     "metadata": {},
     "output_type": "display_data"
    },
    {
     "name": "stdout",
     "output_type": "stream",
     "text": [
      "./checkpoints/checkpoint-1300\n"
     ]
    },
    {
     "data": {
      "application/vnd.jupyter.widget-view+json": {
       "model_id": "ba6238bd41cd4a4f8de6444b1be149c7",
       "version_major": 2,
       "version_minor": 0
      },
      "text/plain": [
       "  0%|          | 0/588 [00:00<?, ?it/s]"
      ]
     },
     "metadata": {},
     "output_type": "display_data"
    },
    {
     "name": "stdout",
     "output_type": "stream",
     "text": [
      "./checkpoints/checkpoint-1400\n"
     ]
    },
    {
     "data": {
      "application/vnd.jupyter.widget-view+json": {
       "model_id": "59e14c0604dd4f5b93399cd35739ee75",
       "version_major": 2,
       "version_minor": 0
      },
      "text/plain": [
       "  0%|          | 0/588 [00:00<?, ?it/s]"
      ]
     },
     "metadata": {},
     "output_type": "display_data"
    },
    {
     "name": "stdout",
     "output_type": "stream",
     "text": [
      "./checkpoints/checkpoint-1500\n"
     ]
    },
    {
     "data": {
      "application/vnd.jupyter.widget-view+json": {
       "model_id": "956a21c11e7d42469cba2758313685da",
       "version_major": 2,
       "version_minor": 0
      },
      "text/plain": [
       "  0%|          | 0/588 [00:00<?, ?it/s]"
      ]
     },
     "metadata": {},
     "output_type": "display_data"
    },
    {
     "name": "stdout",
     "output_type": "stream",
     "text": [
      "./checkpoints/checkpoint-1600\n"
     ]
    },
    {
     "data": {
      "application/vnd.jupyter.widget-view+json": {
       "model_id": "0febe76741044e9f977a388b893aae22",
       "version_major": 2,
       "version_minor": 0
      },
      "text/plain": [
       "  0%|          | 0/588 [00:00<?, ?it/s]"
      ]
     },
     "metadata": {},
     "output_type": "display_data"
    },
    {
     "name": "stdout",
     "output_type": "stream",
     "text": [
      "./checkpoints/checkpoint-1700\n"
     ]
    },
    {
     "data": {
      "application/vnd.jupyter.widget-view+json": {
       "model_id": "22caab08f3734e9c8076e8ea904b7249",
       "version_major": 2,
       "version_minor": 0
      },
      "text/plain": [
       "  0%|          | 0/588 [00:00<?, ?it/s]"
      ]
     },
     "metadata": {},
     "output_type": "display_data"
    },
    {
     "name": "stdout",
     "output_type": "stream",
     "text": [
      "./checkpoints/checkpoint-1800\n"
     ]
    },
    {
     "data": {
      "application/vnd.jupyter.widget-view+json": {
       "model_id": "b736464233304268a283d6e8d49ecfe4",
       "version_major": 2,
       "version_minor": 0
      },
      "text/plain": [
       "  0%|          | 0/588 [00:00<?, ?it/s]"
      ]
     },
     "metadata": {},
     "output_type": "display_data"
    },
    {
     "name": "stdout",
     "output_type": "stream",
     "text": [
      "./checkpoints/checkpoint-1900\n"
     ]
    },
    {
     "data": {
      "application/vnd.jupyter.widget-view+json": {
       "model_id": "a1c7dc5c191e4d0d94fa6e5719c029cb",
       "version_major": 2,
       "version_minor": 0
      },
      "text/plain": [
       "  0%|          | 0/588 [00:00<?, ?it/s]"
      ]
     },
     "metadata": {},
     "output_type": "display_data"
    },
    {
     "name": "stdout",
     "output_type": "stream",
     "text": [
      "./checkpoints/checkpoint-2000\n"
     ]
    },
    {
     "data": {
      "application/vnd.jupyter.widget-view+json": {
       "model_id": "df85affc812c4fcba99aa69ef381643d",
       "version_major": 2,
       "version_minor": 0
      },
      "text/plain": [
       "  0%|          | 0/588 [00:00<?, ?it/s]"
      ]
     },
     "metadata": {},
     "output_type": "display_data"
    },
    {
     "name": "stdout",
     "output_type": "stream",
     "text": [
      "./checkpoints/checkpoint-2100\n"
     ]
    },
    {
     "data": {
      "application/vnd.jupyter.widget-view+json": {
       "model_id": "bc30de26e3e640b88564def1ffcd7e45",
       "version_major": 2,
       "version_minor": 0
      },
      "text/plain": [
       "  0%|          | 0/588 [00:00<?, ?it/s]"
      ]
     },
     "metadata": {},
     "output_type": "display_data"
    },
    {
     "name": "stdout",
     "output_type": "stream",
     "text": [
      "./checkpoints/checkpoint-2200\n"
     ]
    },
    {
     "data": {
      "application/vnd.jupyter.widget-view+json": {
       "model_id": "78e5a324c64749ada25df76f5b3cedc3",
       "version_major": 2,
       "version_minor": 0
      },
      "text/plain": [
       "  0%|          | 0/588 [00:00<?, ?it/s]"
      ]
     },
     "metadata": {},
     "output_type": "display_data"
    },
    {
     "name": "stdout",
     "output_type": "stream",
     "text": [
      "./checkpoints/checkpoint-2300\n"
     ]
    },
    {
     "data": {
      "application/vnd.jupyter.widget-view+json": {
       "model_id": "58de62bccad64f38aaa4eb7d66644804",
       "version_major": 2,
       "version_minor": 0
      },
      "text/plain": [
       "  0%|          | 0/588 [00:00<?, ?it/s]"
      ]
     },
     "metadata": {},
     "output_type": "display_data"
    },
    {
     "name": "stdout",
     "output_type": "stream",
     "text": [
      "./checkpoints/checkpoint-2400\n"
     ]
    },
    {
     "data": {
      "application/vnd.jupyter.widget-view+json": {
       "model_id": "3f162207b4674ddfa13d0a86f4cf0a5f",
       "version_major": 2,
       "version_minor": 0
      },
      "text/plain": [
       "  0%|          | 0/588 [00:00<?, ?it/s]"
      ]
     },
     "metadata": {},
     "output_type": "display_data"
    },
    {
     "name": "stdout",
     "output_type": "stream",
     "text": [
      "./checkpoints/checkpoint-2500\n"
     ]
    },
    {
     "data": {
      "application/vnd.jupyter.widget-view+json": {
       "model_id": "4379e04012794dcab019c853bda50dc5",
       "version_major": 2,
       "version_minor": 0
      },
      "text/plain": [
       "  0%|          | 0/588 [00:00<?, ?it/s]"
      ]
     },
     "metadata": {},
     "output_type": "display_data"
    },
    {
     "name": "stdout",
     "output_type": "stream",
     "text": [
      "./checkpoints/checkpoint-2600\n"
     ]
    },
    {
     "data": {
      "application/vnd.jupyter.widget-view+json": {
       "model_id": "66a220dbd5a34d0b84170f2963de5ca3",
       "version_major": 2,
       "version_minor": 0
      },
      "text/plain": [
       "  0%|          | 0/588 [00:00<?, ?it/s]"
      ]
     },
     "metadata": {},
     "output_type": "display_data"
    },
    {
     "name": "stdout",
     "output_type": "stream",
     "text": [
      "./checkpoints/checkpoint-2700\n"
     ]
    },
    {
     "data": {
      "application/vnd.jupyter.widget-view+json": {
       "model_id": "81b5af3190474a289105482799785cde",
       "version_major": 2,
       "version_minor": 0
      },
      "text/plain": [
       "  0%|          | 0/588 [00:00<?, ?it/s]"
      ]
     },
     "metadata": {},
     "output_type": "display_data"
    },
    {
     "name": "stdout",
     "output_type": "stream",
     "text": [
      "./checkpoints/checkpoint-2800\n"
     ]
    },
    {
     "data": {
      "application/vnd.jupyter.widget-view+json": {
       "model_id": "c52d9278ed034fa38b8c0c078774d79f",
       "version_major": 2,
       "version_minor": 0
      },
      "text/plain": [
       "  0%|          | 0/588 [00:00<?, ?it/s]"
      ]
     },
     "metadata": {},
     "output_type": "display_data"
    },
    {
     "name": "stdout",
     "output_type": "stream",
     "text": [
      "./checkpoints/checkpoint-2900\n"
     ]
    },
    {
     "data": {
      "application/vnd.jupyter.widget-view+json": {
       "model_id": "a5d007bb37924ea1aac17e0ce73993a8",
       "version_major": 2,
       "version_minor": 0
      },
      "text/plain": [
       "  0%|          | 0/588 [00:00<?, ?it/s]"
      ]
     },
     "metadata": {},
     "output_type": "display_data"
    },
    {
     "name": "stdout",
     "output_type": "stream",
     "text": [
      "./checkpoints/checkpoint-3000\n"
     ]
    },
    {
     "data": {
      "application/vnd.jupyter.widget-view+json": {
       "model_id": "12c6150a3eca4d91b85088b0287f8dc1",
       "version_major": 2,
       "version_minor": 0
      },
      "text/plain": [
       "  0%|          | 0/588 [00:00<?, ?it/s]"
      ]
     },
     "metadata": {},
     "output_type": "display_data"
    },
    {
     "name": "stdout",
     "output_type": "stream",
     "text": [
      "./checkpoints/checkpoint-3035\n"
     ]
    },
    {
     "data": {
      "application/vnd.jupyter.widget-view+json": {
       "model_id": "c27e88ecab274ff0930d164bafd9819f",
       "version_major": 2,
       "version_minor": 0
      },
      "text/plain": [
       "  0%|          | 0/588 [00:00<?, ?it/s]"
      ]
     },
     "metadata": {},
     "output_type": "display_data"
    }
   ],
   "source": [
    "from tqdm.notebook import tqdm\n",
    "import torch\n",
    "import gc\n",
    "from unsloth import FastLanguageModel\n",
    "from transformers import AutoModelForCausalLM\n",
    "from IPython.display import clear_output, display\n",
    "from IPython.utils.capture import capture_output\n",
    "\n",
    "\n",
    "def test_model(model, seed=42, do_sample=False, temperature=0):\n",
    "    answers = []\n",
    "\n",
    "    for entry in tqdm(test_ds):\n",
    "        # set seed\n",
    "        torch.manual_seed(seed)\n",
    "\n",
    "        # tokenize\n",
    "        input = tokenizer(\n",
    "            entry[\"chat\"],\n",
    "            return_tensors=\"pt\",\n",
    "        ).to(model.device)\n",
    "\n",
    "        # generate and return sequence, scores and logits, with given temperature and sampling\n",
    "        response = model.generate(\n",
    "            **input,\n",
    "            max_new_tokens=1,\n",
    "            do_sample=do_sample,\n",
    "            temperature=temperature,\n",
    "            return_dict_in_generate=True,\n",
    "            output_scores=True,\n",
    "            output_logits=True,\n",
    "            pad_token_id=tokenizer.eos_token_id,\n",
    "        )\n",
    "\n",
    "        # decode answer\n",
    "        output = tokenizer.decode(\n",
    "            response[\"sequences\"][0][input.input_ids.shape[1] :],\n",
    "            skip_special_tokens=True,\n",
    "        ).strip()\n",
    "\n",
    "        # get top 10 tokens and scores\n",
    "        scores = response[\"scores\"][0]\n",
    "        top_k = scores.topk(10)\n",
    "        top_k_tokens = tokenizer.convert_ids_to_tokens(top_k.indices.reshape(-1, 1))\n",
    "\n",
    "        # append to answers\n",
    "        answers.append(\n",
    "            {\n",
    "                \"pred\": output,\n",
    "                \"top_k_tokens\": top_k_tokens,\n",
    "                \"top_k_scores\": top_k.values.tolist()[0],\n",
    "            }\n",
    "        )\n",
    "\n",
    "    return answers\n",
    "\n",
    "checkpoints_answers = []\n",
    "\n",
    "for checkpoint in tqdm(checkpoints, desc='Running checkpoints'):\n",
    "\n",
    "    print(checkpoint)\n",
    "    \n",
    "    # prevent output from being displayed in the cell's output\n",
    "    with capture_output() as captured:\n",
    "        model, tokenizer = FastLanguageModel.from_pretrained(\n",
    "            model_name = checkpoint,\n",
    "            max_seq_length = 2048,\n",
    "            dtype = None,\n",
    "            load_in_4bit = False,\n",
    "        )\n",
    "        FastLanguageModel.for_inference(model)\n",
    "        # model = AutoModelForCausalLM.from_pretrained(checkpoint, device_map='cuda')\n",
    "        \n",
    "\n",
    "    with torch.no_grad():\n",
    "        answers = test_model(model)\n",
    "        checkpoints_answers.append(answers)\n",
    "\n",
    "\n",
    "    del model\n",
    "\n",
    "    for _ in range(3):\n",
    "        for gc_step in range(3):\n",
    "            gc.collect(gc_step)\n",
    "            torch.cuda.empty_cache()\n"
   ]
  },
  {
   "cell_type": "markdown",
   "metadata": {},
   "source": [
    "## Process results"
   ]
  },
  {
   "cell_type": "markdown",
   "metadata": {},
   "source": [
    "Merge test dataset with answers:"
   ]
  },
  {
   "cell_type": "code",
   "execution_count": 11,
   "metadata": {},
   "outputs": [
    {
     "data": {
      "text/html": [
       "<div>\n",
       "<style scoped>\n",
       "    .dataframe tbody tr th:only-of-type {\n",
       "        vertical-align: middle;\n",
       "    }\n",
       "\n",
       "    .dataframe tbody tr th {\n",
       "        vertical-align: top;\n",
       "    }\n",
       "\n",
       "    .dataframe thead th {\n",
       "        text-align: right;\n",
       "    }\n",
       "</style>\n",
       "<table border=\"1\" class=\"dataframe\">\n",
       "  <thead>\n",
       "    <tr style=\"text-align: right;\">\n",
       "      <th></th>\n",
       "      <th>question_number</th>\n",
       "      <th>question</th>\n",
       "      <th>type</th>\n",
       "      <th>options</th>\n",
       "      <th>grade</th>\n",
       "      <th>stage</th>\n",
       "      <th>year</th>\n",
       "      <th>right_answer</th>\n",
       "      <th>source</th>\n",
       "      <th>id_in_source</th>\n",
       "      <th>dupe_id</th>\n",
       "      <th>chat</th>\n",
       "      <th>pred</th>\n",
       "      <th>top_k_tokens</th>\n",
       "      <th>top_k_scores</th>\n",
       "      <th>checkpoint</th>\n",
       "    </tr>\n",
       "  </thead>\n",
       "  <tbody>\n",
       "    <tr>\n",
       "      <th>0</th>\n",
       "      <td>30</td>\n",
       "      <td>Următorul reflex este monosinaptic:</td>\n",
       "      <td>single-choice</td>\n",
       "      <td>[A. rotulian, B. cardioaccelerator, C. de apăr...</td>\n",
       "      <td>VII</td>\n",
       "      <td>locala</td>\n",
       "      <td>2018</td>\n",
       "      <td>A</td>\n",
       "      <td>olimpiada</td>\n",
       "      <td>arad</td>\n",
       "      <td>None</td>\n",
       "      <td>&lt;|begin_of_text|&gt;&lt;|start_header_id|&gt;system&lt;|en...</td>\n",
       "      <td>A</td>\n",
       "      <td>[A, D, B, C, E, R, V, U, M, S]</td>\n",
       "      <td>[31.625, 31.5, 31.5, 31.5, 23.25, 22.125, 21.6...</td>\n",
       "      <td>./checkpoints/checkpoint-100</td>\n",
       "    </tr>\n",
       "    <tr>\n",
       "      <th>1</th>\n",
       "      <td>25</td>\n",
       "      <td>Axonii neuronilor olfactivi străbat lama ciuru...</td>\n",
       "      <td>single-choice</td>\n",
       "      <td>[A. etmoid, B. sfenoid, C. zigomatic, D. frontal]</td>\n",
       "      <td>VII</td>\n",
       "      <td>locala</td>\n",
       "      <td>2018</td>\n",
       "      <td>A</td>\n",
       "      <td>olimpiada</td>\n",
       "      <td>arad</td>\n",
       "      <td>None</td>\n",
       "      <td>&lt;|begin_of_text|&gt;&lt;|start_header_id|&gt;system&lt;|en...</td>\n",
       "      <td>A</td>\n",
       "      <td>[A, B, C, D, E, S, F, R, T, L]</td>\n",
       "      <td>[32.25, 31.875, 31.0, 31.0, 24.625, 21.75, 21....</td>\n",
       "      <td>./checkpoints/checkpoint-100</td>\n",
       "    </tr>\n",
       "    <tr>\n",
       "      <th>2</th>\n",
       "      <td>24</td>\n",
       "      <td>Astigmatismul:</td>\n",
       "      <td>single-choice</td>\n",
       "      <td>[A. este un defect care nu afectează sistemul ...</td>\n",
       "      <td>VII</td>\n",
       "      <td>locala</td>\n",
       "      <td>2018</td>\n",
       "      <td>C</td>\n",
       "      <td>olimpiada</td>\n",
       "      <td>arad</td>\n",
       "      <td>None</td>\n",
       "      <td>&lt;|begin_of_text|&gt;&lt;|start_header_id|&gt;system&lt;|en...</td>\n",
       "      <td>C</td>\n",
       "      <td>[C, D, B, A, E, R, CD, BC, AC, AB]</td>\n",
       "      <td>[32.75, 31.625, 31.625, 31.125, 22.5, 22.125, ...</td>\n",
       "      <td>./checkpoints/checkpoint-100</td>\n",
       "    </tr>\n",
       "    <tr>\n",
       "      <th>3</th>\n",
       "      <td>22</td>\n",
       "      <td>Structuri bogat vascularizate sunt:</td>\n",
       "      <td>single-choice</td>\n",
       "      <td>[A. coroida, dermul, B. corneea, mucoasa nazal...</td>\n",
       "      <td>VII</td>\n",
       "      <td>locala</td>\n",
       "      <td>2018</td>\n",
       "      <td>A</td>\n",
       "      <td>olimpiada</td>\n",
       "      <td>arad</td>\n",
       "      <td>None</td>\n",
       "      <td>&lt;|begin_of_text|&gt;&lt;|start_header_id|&gt;system&lt;|en...</td>\n",
       "      <td>D</td>\n",
       "      <td>[D, C, A, B, E, R, S, P, V, Cor]</td>\n",
       "      <td>[32.25, 31.625, 31.625, 31.375, 23.625, 21.75,...</td>\n",
       "      <td>./checkpoints/checkpoint-100</td>\n",
       "    </tr>\n",
       "    <tr>\n",
       "      <th>4</th>\n",
       "      <td>20</td>\n",
       "      <td>Arcul reflex:</td>\n",
       "      <td>single-choice</td>\n",
       "      <td>[A. este format din 3 componente, B. reprezint...</td>\n",
       "      <td>VII</td>\n",
       "      <td>locala</td>\n",
       "      <td>2018</td>\n",
       "      <td>B</td>\n",
       "      <td>olimpiada</td>\n",
       "      <td>arad</td>\n",
       "      <td>None</td>\n",
       "      <td>&lt;|begin_of_text|&gt;&lt;|start_header_id|&gt;system&lt;|en...</td>\n",
       "      <td>D</td>\n",
       "      <td>[D, B, C, A, CD, E, R, BC, AC, AD]</td>\n",
       "      <td>[32.5, 31.625, 31.375, 31.125, 22.5, 22.5, 22....</td>\n",
       "      <td>./checkpoints/checkpoint-100</td>\n",
       "    </tr>\n",
       "    <tr>\n",
       "      <th>...</th>\n",
       "      <td>...</td>\n",
       "      <td>...</td>\n",
       "      <td>...</td>\n",
       "      <td>...</td>\n",
       "      <td>...</td>\n",
       "      <td>...</td>\n",
       "      <td>...</td>\n",
       "      <td>...</td>\n",
       "      <td>...</td>\n",
       "      <td>...</td>\n",
       "      <td>...</td>\n",
       "      <td>...</td>\n",
       "      <td>...</td>\n",
       "      <td>...</td>\n",
       "      <td>...</td>\n",
       "      <td>...</td>\n",
       "    </tr>\n",
       "    <tr>\n",
       "      <th>583</th>\n",
       "      <td>39</td>\n",
       "      <td>Glicoliza anaerobă se caracterizează prin urmă...</td>\n",
       "      <td>single-choice</td>\n",
       "      <td>[A. randament foarte ridicat, B. transformarea...</td>\n",
       "      <td>facultate</td>\n",
       "      <td>admitere</td>\n",
       "      <td>2020</td>\n",
       "      <td>A</td>\n",
       "      <td>UMF Brasov</td>\n",
       "      <td>metabolismul/varianta_B</td>\n",
       "      <td>None</td>\n",
       "      <td>&lt;|begin_of_text|&gt;&lt;|start_header_id|&gt;system&lt;|en...</td>\n",
       "      <td>C</td>\n",
       "      <td>[C, E, B, D, A, CE, F, BC, G, M]</td>\n",
       "      <td>[36.75, 32.25, 30.5, 28.75, 26.5, 25.75, 24.25...</td>\n",
       "      <td>./checkpoints/checkpoint-3035</td>\n",
       "    </tr>\n",
       "    <tr>\n",
       "      <th>584</th>\n",
       "      <td>1</td>\n",
       "      <td>Alegeți afirmația incorectă referitoare la aci...</td>\n",
       "      <td>single-choice</td>\n",
       "      <td>[A. prin reacția de beta-oxidare duc la formar...</td>\n",
       "      <td>facultate</td>\n",
       "      <td>admitere</td>\n",
       "      <td>2020</td>\n",
       "      <td>C</td>\n",
       "      <td>UMF Brasov</td>\n",
       "      <td>metabolismul/varianta_B</td>\n",
       "      <td>None</td>\n",
       "      <td>&lt;|begin_of_text|&gt;&lt;|start_header_id|&gt;system&lt;|en...</td>\n",
       "      <td>D</td>\n",
       "      <td>[D, E, C, A, B, DE, AD, ADE, ED, AB]</td>\n",
       "      <td>[34.25, 32.25, 31.125, 30.25, 28.375, 27.125, ...</td>\n",
       "      <td>./checkpoints/checkpoint-3035</td>\n",
       "    </tr>\n",
       "    <tr>\n",
       "      <th>585</th>\n",
       "      <td>21</td>\n",
       "      <td>Care dintre următorii hormoni au rol predomina...</td>\n",
       "      <td>single-choice</td>\n",
       "      <td>[A. hormonul somatotrop, B. testosteronul, C. ...</td>\n",
       "      <td>facultate</td>\n",
       "      <td>admitere</td>\n",
       "      <td>2020</td>\n",
       "      <td>C</td>\n",
       "      <td>UMF Brasov</td>\n",
       "      <td>metabolismul/varianta_A</td>\n",
       "      <td>None</td>\n",
       "      <td>&lt;|begin_of_text|&gt;&lt;|start_header_id|&gt;system&lt;|en...</td>\n",
       "      <td>C</td>\n",
       "      <td>[C, B, A, D, E, F, G, P, M, H]</td>\n",
       "      <td>[39.25, 31.25, 30.125, 29.125, 29.0, 27.0, 25....</td>\n",
       "      <td>./checkpoints/checkpoint-3035</td>\n",
       "    </tr>\n",
       "    <tr>\n",
       "      <th>586</th>\n",
       "      <td>11</td>\n",
       "      <td>Despre rolurile lipidelor în organism nu se po...</td>\n",
       "      <td>single-choice</td>\n",
       "      <td>[A. lipidele aflate în organism reprezintă o r...</td>\n",
       "      <td>facultate</td>\n",
       "      <td>admitere</td>\n",
       "      <td>2020</td>\n",
       "      <td>A</td>\n",
       "      <td>UMF Brasov</td>\n",
       "      <td>metabolismul/varianta_A</td>\n",
       "      <td>None</td>\n",
       "      <td>&lt;|begin_of_text|&gt;&lt;|start_header_id|&gt;system&lt;|en...</td>\n",
       "      <td>E</td>\n",
       "      <td>[E, C, B, A, D, CE, BC, AE, AB, BE]</td>\n",
       "      <td>[34.75, 32.75, 32.5, 29.5, 28.75, 25.75, 24.62...</td>\n",
       "      <td>./checkpoints/checkpoint-3035</td>\n",
       "    </tr>\n",
       "    <tr>\n",
       "      <th>587</th>\n",
       "      <td>8</td>\n",
       "      <td>Care dintre următoarele afirmații este incorectă?</td>\n",
       "      <td>single-choice</td>\n",
       "      <td>[A. glucoza intră în compoziția chilomicronilo...</td>\n",
       "      <td>facultate</td>\n",
       "      <td>admitere</td>\n",
       "      <td>2020</td>\n",
       "      <td>A</td>\n",
       "      <td>UMF Brasov</td>\n",
       "      <td>metabolismul/varianta_A</td>\n",
       "      <td>None</td>\n",
       "      <td>&lt;|begin_of_text|&gt;&lt;|start_header_id|&gt;system&lt;|en...</td>\n",
       "      <td>B</td>\n",
       "      <td>[B, D, A, C, E, AD, AB, BD, DB, BC]</td>\n",
       "      <td>[33.25, 33.25, 30.125, 29.75, 28.0, 26.5, 26.3...</td>\n",
       "      <td>./checkpoints/checkpoint-3035</td>\n",
       "    </tr>\n",
       "  </tbody>\n",
       "</table>\n",
       "<p>18228 rows × 16 columns</p>\n",
       "</div>"
      ],
      "text/plain": [
       "    question_number                                           question  \\\n",
       "0                30                Următorul reflex este monosinaptic:   \n",
       "1                25  Axonii neuronilor olfactivi străbat lama ciuru...   \n",
       "2                24                                     Astigmatismul:   \n",
       "3                22                Structuri bogat vascularizate sunt:   \n",
       "4                20                                      Arcul reflex:   \n",
       "..              ...                                                ...   \n",
       "583              39  Glicoliza anaerobă se caracterizează prin urmă...   \n",
       "584               1  Alegeți afirmația incorectă referitoare la aci...   \n",
       "585              21  Care dintre următorii hormoni au rol predomina...   \n",
       "586              11  Despre rolurile lipidelor în organism nu se po...   \n",
       "587               8  Care dintre următoarele afirmații este incorectă?   \n",
       "\n",
       "              type                                            options  \\\n",
       "0    single-choice  [A. rotulian, B. cardioaccelerator, C. de apăr...   \n",
       "1    single-choice  [A. etmoid, B. sfenoid, C. zigomatic, D. frontal]   \n",
       "2    single-choice  [A. este un defect care nu afectează sistemul ...   \n",
       "3    single-choice  [A. coroida, dermul, B. corneea, mucoasa nazal...   \n",
       "4    single-choice  [A. este format din 3 componente, B. reprezint...   \n",
       "..             ...                                                ...   \n",
       "583  single-choice  [A. randament foarte ridicat, B. transformarea...   \n",
       "584  single-choice  [A. prin reacția de beta-oxidare duc la formar...   \n",
       "585  single-choice  [A. hormonul somatotrop, B. testosteronul, C. ...   \n",
       "586  single-choice  [A. lipidele aflate în organism reprezintă o r...   \n",
       "587  single-choice  [A. glucoza intră în compoziția chilomicronilo...   \n",
       "\n",
       "         grade     stage  year right_answer      source  \\\n",
       "0          VII    locala  2018            A   olimpiada   \n",
       "1          VII    locala  2018            A   olimpiada   \n",
       "2          VII    locala  2018            C   olimpiada   \n",
       "3          VII    locala  2018            A   olimpiada   \n",
       "4          VII    locala  2018            B   olimpiada   \n",
       "..         ...       ...   ...          ...         ...   \n",
       "583  facultate  admitere  2020            A  UMF Brasov   \n",
       "584  facultate  admitere  2020            C  UMF Brasov   \n",
       "585  facultate  admitere  2020            C  UMF Brasov   \n",
       "586  facultate  admitere  2020            A  UMF Brasov   \n",
       "587  facultate  admitere  2020            A  UMF Brasov   \n",
       "\n",
       "                id_in_source dupe_id  \\\n",
       "0                       arad    None   \n",
       "1                       arad    None   \n",
       "2                       arad    None   \n",
       "3                       arad    None   \n",
       "4                       arad    None   \n",
       "..                       ...     ...   \n",
       "583  metabolismul/varianta_B    None   \n",
       "584  metabolismul/varianta_B    None   \n",
       "585  metabolismul/varianta_A    None   \n",
       "586  metabolismul/varianta_A    None   \n",
       "587  metabolismul/varianta_A    None   \n",
       "\n",
       "                                                  chat pred  \\\n",
       "0    <|begin_of_text|><|start_header_id|>system<|en...    A   \n",
       "1    <|begin_of_text|><|start_header_id|>system<|en...    A   \n",
       "2    <|begin_of_text|><|start_header_id|>system<|en...    C   \n",
       "3    <|begin_of_text|><|start_header_id|>system<|en...    D   \n",
       "4    <|begin_of_text|><|start_header_id|>system<|en...    D   \n",
       "..                                                 ...  ...   \n",
       "583  <|begin_of_text|><|start_header_id|>system<|en...    C   \n",
       "584  <|begin_of_text|><|start_header_id|>system<|en...    D   \n",
       "585  <|begin_of_text|><|start_header_id|>system<|en...    C   \n",
       "586  <|begin_of_text|><|start_header_id|>system<|en...    E   \n",
       "587  <|begin_of_text|><|start_header_id|>system<|en...    B   \n",
       "\n",
       "                             top_k_tokens  \\\n",
       "0          [A, D, B, C, E, R, V, U, M, S]   \n",
       "1          [A, B, C, D, E, S, F, R, T, L]   \n",
       "2      [C, D, B, A, E, R, CD, BC, AC, AB]   \n",
       "3        [D, C, A, B, E, R, S, P, V, Cor]   \n",
       "4      [D, B, C, A, CD, E, R, BC, AC, AD]   \n",
       "..                                    ...   \n",
       "583      [C, E, B, D, A, CE, F, BC, G, M]   \n",
       "584  [D, E, C, A, B, DE, AD, ADE, ED, AB]   \n",
       "585        [C, B, A, D, E, F, G, P, M, H]   \n",
       "586   [E, C, B, A, D, CE, BC, AE, AB, BE]   \n",
       "587   [B, D, A, C, E, AD, AB, BD, DB, BC]   \n",
       "\n",
       "                                          top_k_scores  \\\n",
       "0    [31.625, 31.5, 31.5, 31.5, 23.25, 22.125, 21.6...   \n",
       "1    [32.25, 31.875, 31.0, 31.0, 24.625, 21.75, 21....   \n",
       "2    [32.75, 31.625, 31.625, 31.125, 22.5, 22.125, ...   \n",
       "3    [32.25, 31.625, 31.625, 31.375, 23.625, 21.75,...   \n",
       "4    [32.5, 31.625, 31.375, 31.125, 22.5, 22.5, 22....   \n",
       "..                                                 ...   \n",
       "583  [36.75, 32.25, 30.5, 28.75, 26.5, 25.75, 24.25...   \n",
       "584  [34.25, 32.25, 31.125, 30.25, 28.375, 27.125, ...   \n",
       "585  [39.25, 31.25, 30.125, 29.125, 29.0, 27.0, 25....   \n",
       "586  [34.75, 32.75, 32.5, 29.5, 28.75, 25.75, 24.62...   \n",
       "587  [33.25, 33.25, 30.125, 29.75, 28.0, 26.5, 26.3...   \n",
       "\n",
       "                        checkpoint  \n",
       "0     ./checkpoints/checkpoint-100  \n",
       "1     ./checkpoints/checkpoint-100  \n",
       "2     ./checkpoints/checkpoint-100  \n",
       "3     ./checkpoints/checkpoint-100  \n",
       "4     ./checkpoints/checkpoint-100  \n",
       "..                             ...  \n",
       "583  ./checkpoints/checkpoint-3035  \n",
       "584  ./checkpoints/checkpoint-3035  \n",
       "585  ./checkpoints/checkpoint-3035  \n",
       "586  ./checkpoints/checkpoint-3035  \n",
       "587  ./checkpoints/checkpoint-3035  \n",
       "\n",
       "[18228 rows x 16 columns]"
      ]
     },
     "execution_count": 11,
     "metadata": {},
     "output_type": "execute_result"
    }
   ],
   "source": [
    "import pandas as pd\n",
    "test_df = pd.DataFrame(test_ds)\n",
    "\n",
    "all_answers_df = []\n",
    "for answers, checkpoint in zip(checkpoints_answers, checkpoints):\n",
    "    answers_df=pd.DataFrame(answers).rename(columns={'output': 'pred'})\n",
    "    answers_df = test_df.join(answers_df)\n",
    "    answers_df['checkpoint'] = checkpoint\n",
    "    all_answers_df.append(answers_df)\n",
    "\n",
    "all_answers_df = pd.concat(all_answers_df)\n",
    "all_answers_df\n"
   ]
  },
  {
   "cell_type": "code",
   "execution_count": 12,
   "metadata": {},
   "outputs": [],
   "source": [
    "all_answers_df['correct'] = all_answers_df['right_answer'] == all_answers_df['pred']"
   ]
  },
  {
   "cell_type": "code",
   "execution_count": 13,
   "metadata": {},
   "outputs": [
    {
     "data": {
      "text/html": [
       "<div>\n",
       "<style scoped>\n",
       "    .dataframe tbody tr th:only-of-type {\n",
       "        vertical-align: middle;\n",
       "    }\n",
       "\n",
       "    .dataframe tbody tr th {\n",
       "        vertical-align: top;\n",
       "    }\n",
       "\n",
       "    .dataframe thead th {\n",
       "        text-align: right;\n",
       "    }\n",
       "</style>\n",
       "<table border=\"1\" class=\"dataframe\">\n",
       "  <thead>\n",
       "    <tr style=\"text-align: right;\">\n",
       "      <th></th>\n",
       "      <th>checkpoint</th>\n",
       "      <th>accuracy</th>\n",
       "    </tr>\n",
       "  </thead>\n",
       "  <tbody>\n",
       "    <tr>\n",
       "      <th>0</th>\n",
       "      <td>./checkpoints/checkpoint-100</td>\n",
       "      <td>0.382653</td>\n",
       "    </tr>\n",
       "    <tr>\n",
       "      <th>1</th>\n",
       "      <td>./checkpoints/checkpoint-200</td>\n",
       "      <td>0.392857</td>\n",
       "    </tr>\n",
       "    <tr>\n",
       "      <th>2</th>\n",
       "      <td>./checkpoints/checkpoint-300</td>\n",
       "      <td>0.375850</td>\n",
       "    </tr>\n",
       "    <tr>\n",
       "      <th>3</th>\n",
       "      <td>./checkpoints/checkpoint-400</td>\n",
       "      <td>0.408163</td>\n",
       "    </tr>\n",
       "    <tr>\n",
       "      <th>4</th>\n",
       "      <td>./checkpoints/checkpoint-500</td>\n",
       "      <td>0.437075</td>\n",
       "    </tr>\n",
       "    <tr>\n",
       "      <th>5</th>\n",
       "      <td>./checkpoints/checkpoint-600</td>\n",
       "      <td>0.404762</td>\n",
       "    </tr>\n",
       "    <tr>\n",
       "      <th>6</th>\n",
       "      <td>./checkpoints/checkpoint-700</td>\n",
       "      <td>0.442177</td>\n",
       "    </tr>\n",
       "    <tr>\n",
       "      <th>7</th>\n",
       "      <td>./checkpoints/checkpoint-800</td>\n",
       "      <td>0.418367</td>\n",
       "    </tr>\n",
       "    <tr>\n",
       "      <th>8</th>\n",
       "      <td>./checkpoints/checkpoint-900</td>\n",
       "      <td>0.425170</td>\n",
       "    </tr>\n",
       "    <tr>\n",
       "      <th>9</th>\n",
       "      <td>./checkpoints/checkpoint-1000</td>\n",
       "      <td>0.401361</td>\n",
       "    </tr>\n",
       "    <tr>\n",
       "      <th>10</th>\n",
       "      <td>./checkpoints/checkpoint-1100</td>\n",
       "      <td>0.435374</td>\n",
       "    </tr>\n",
       "    <tr>\n",
       "      <th>11</th>\n",
       "      <td>./checkpoints/checkpoint-1200</td>\n",
       "      <td>0.443878</td>\n",
       "    </tr>\n",
       "    <tr>\n",
       "      <th>12</th>\n",
       "      <td>./checkpoints/checkpoint-1300</td>\n",
       "      <td>0.426871</td>\n",
       "    </tr>\n",
       "    <tr>\n",
       "      <th>13</th>\n",
       "      <td>./checkpoints/checkpoint-1400</td>\n",
       "      <td>0.426871</td>\n",
       "    </tr>\n",
       "    <tr>\n",
       "      <th>14</th>\n",
       "      <td>./checkpoints/checkpoint-1500</td>\n",
       "      <td>0.416667</td>\n",
       "    </tr>\n",
       "    <tr>\n",
       "      <th>15</th>\n",
       "      <td>./checkpoints/checkpoint-1600</td>\n",
       "      <td>0.437075</td>\n",
       "    </tr>\n",
       "    <tr>\n",
       "      <th>16</th>\n",
       "      <td>./checkpoints/checkpoint-1700</td>\n",
       "      <td>0.425170</td>\n",
       "    </tr>\n",
       "    <tr>\n",
       "      <th>17</th>\n",
       "      <td>./checkpoints/checkpoint-1800</td>\n",
       "      <td>0.435374</td>\n",
       "    </tr>\n",
       "    <tr>\n",
       "      <th>18</th>\n",
       "      <td>./checkpoints/checkpoint-1900</td>\n",
       "      <td>0.426871</td>\n",
       "    </tr>\n",
       "    <tr>\n",
       "      <th>19</th>\n",
       "      <td>./checkpoints/checkpoint-2000</td>\n",
       "      <td>0.430272</td>\n",
       "    </tr>\n",
       "    <tr>\n",
       "      <th>20</th>\n",
       "      <td>./checkpoints/checkpoint-2100</td>\n",
       "      <td>0.442177</td>\n",
       "    </tr>\n",
       "    <tr>\n",
       "      <th>21</th>\n",
       "      <td>./checkpoints/checkpoint-2200</td>\n",
       "      <td>0.421769</td>\n",
       "    </tr>\n",
       "    <tr>\n",
       "      <th>22</th>\n",
       "      <td>./checkpoints/checkpoint-2300</td>\n",
       "      <td>0.428571</td>\n",
       "    </tr>\n",
       "    <tr>\n",
       "      <th>23</th>\n",
       "      <td>./checkpoints/checkpoint-2400</td>\n",
       "      <td>0.426871</td>\n",
       "    </tr>\n",
       "    <tr>\n",
       "      <th>24</th>\n",
       "      <td>./checkpoints/checkpoint-2500</td>\n",
       "      <td>0.414966</td>\n",
       "    </tr>\n",
       "    <tr>\n",
       "      <th>25</th>\n",
       "      <td>./checkpoints/checkpoint-2600</td>\n",
       "      <td>0.430272</td>\n",
       "    </tr>\n",
       "    <tr>\n",
       "      <th>26</th>\n",
       "      <td>./checkpoints/checkpoint-2700</td>\n",
       "      <td>0.425170</td>\n",
       "    </tr>\n",
       "    <tr>\n",
       "      <th>27</th>\n",
       "      <td>./checkpoints/checkpoint-2800</td>\n",
       "      <td>0.408163</td>\n",
       "    </tr>\n",
       "    <tr>\n",
       "      <th>28</th>\n",
       "      <td>./checkpoints/checkpoint-2900</td>\n",
       "      <td>0.418367</td>\n",
       "    </tr>\n",
       "    <tr>\n",
       "      <th>29</th>\n",
       "      <td>./checkpoints/checkpoint-3000</td>\n",
       "      <td>0.421769</td>\n",
       "    </tr>\n",
       "    <tr>\n",
       "      <th>30</th>\n",
       "      <td>./checkpoints/checkpoint-3035</td>\n",
       "      <td>0.420068</td>\n",
       "    </tr>\n",
       "  </tbody>\n",
       "</table>\n",
       "</div>"
      ],
      "text/plain": [
       "                       checkpoint  accuracy\n",
       "0    ./checkpoints/checkpoint-100  0.382653\n",
       "1    ./checkpoints/checkpoint-200  0.392857\n",
       "2    ./checkpoints/checkpoint-300  0.375850\n",
       "3    ./checkpoints/checkpoint-400  0.408163\n",
       "4    ./checkpoints/checkpoint-500  0.437075\n",
       "5    ./checkpoints/checkpoint-600  0.404762\n",
       "6    ./checkpoints/checkpoint-700  0.442177\n",
       "7    ./checkpoints/checkpoint-800  0.418367\n",
       "8    ./checkpoints/checkpoint-900  0.425170\n",
       "9   ./checkpoints/checkpoint-1000  0.401361\n",
       "10  ./checkpoints/checkpoint-1100  0.435374\n",
       "11  ./checkpoints/checkpoint-1200  0.443878\n",
       "12  ./checkpoints/checkpoint-1300  0.426871\n",
       "13  ./checkpoints/checkpoint-1400  0.426871\n",
       "14  ./checkpoints/checkpoint-1500  0.416667\n",
       "15  ./checkpoints/checkpoint-1600  0.437075\n",
       "16  ./checkpoints/checkpoint-1700  0.425170\n",
       "17  ./checkpoints/checkpoint-1800  0.435374\n",
       "18  ./checkpoints/checkpoint-1900  0.426871\n",
       "19  ./checkpoints/checkpoint-2000  0.430272\n",
       "20  ./checkpoints/checkpoint-2100  0.442177\n",
       "21  ./checkpoints/checkpoint-2200  0.421769\n",
       "22  ./checkpoints/checkpoint-2300  0.428571\n",
       "23  ./checkpoints/checkpoint-2400  0.426871\n",
       "24  ./checkpoints/checkpoint-2500  0.414966\n",
       "25  ./checkpoints/checkpoint-2600  0.430272\n",
       "26  ./checkpoints/checkpoint-2700  0.425170\n",
       "27  ./checkpoints/checkpoint-2800  0.408163\n",
       "28  ./checkpoints/checkpoint-2900  0.418367\n",
       "29  ./checkpoints/checkpoint-3000  0.421769\n",
       "30  ./checkpoints/checkpoint-3035  0.420068"
      ]
     },
     "execution_count": 13,
     "metadata": {},
     "output_type": "execute_result"
    }
   ],
   "source": [
    "stats = []\n",
    "\n",
    "for checkpoint in all_answers_df['checkpoint'].unique():\n",
    "    answers_df = all_answers_df[all_answers_df['checkpoint'] == checkpoint]\n",
    "    stats.append({\n",
    "        'checkpoint': checkpoint,\n",
    "        'accuracy': answers_df['correct'].mean(),\n",
    "    })\n",
    "\n",
    "stats_df = pd.DataFrame(stats)\n",
    "stats_df"
   ]
  },
  {
   "cell_type": "code",
   "execution_count": 14,
   "metadata": {},
   "outputs": [
    {
     "data": {
      "image/png": "[encoded data removed]",
      "text/plain": [
       "<Figure size 1000x600 with 1 Axes>"
      ]
     },
     "metadata": {},
     "output_type": "display_data"
    }
   ],
   "source": [
    "import matplotlib.pyplot as plt\n",
    "import numpy as np\n",
    "\n",
    "plt.figure(figsize=(10, 6))\n",
    "\n",
    "# Plot original data points\n",
    "x = np.array(range(len(stats_df)))\n",
    "y = stats_df['accuracy'].values\n",
    "plt.plot(x, y, marker='o', label='Actual')\n",
    "\n",
    "# Fit and plot polynomial trendline\n",
    "z = np.polyfit(x, y, 3)\n",
    "p = np.poly1d(z)\n",
    "plt.plot(x, p(x), 'r--', label='Trend')\n",
    "\n",
    "plt.title('Model Accuracy by Checkpoint')\n",
    "plt.xlabel('Checkpoint Number')\n",
    "plt.ylabel('Accuracy') \n",
    "plt.grid(True)\n",
    "plt.xticks(range(len(stats_df)), [cp.split('-')[-1] for cp in stats_df['checkpoint']], rotation=45)\n",
    "plt.legend()\n",
    "plt.tight_layout()\n",
    "plt.show()\n"
   ]
  },
  {
   "cell_type": "code",
   "execution_count": null,
   "metadata": {},
   "outputs": [],
   "source": []
  }
 ],
 "metadata": {
  "kernelspec": {
   "display_name": ".venv",
   "language": "python",
   "name": "python3"
  },
  "language_info": {
   "codemirror_mode": {
    "name": "ipython",
    "version": 3
   },
   "file_extension": ".py",
   "mimetype": "text/x-python",
   "name": "python",
   "nbconvert_exporter": "python",
   "pygments_lexer": "ipython3",
   "version": "3.10.15"
  }
 },
 "nbformat": 4,
 "nbformat_minor": 2
}
