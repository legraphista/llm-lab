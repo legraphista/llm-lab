{
 "cells": [
  {
   "cell_type": "markdown",
   "metadata": {},
   "source": [
    "# Evaluating LLMs\n",
    "\n",
    "Evaluating models depends on the task you want to evaluate on.  \n",
    "There are a few types of evaluation:\n",
    "- Automated Evaluation (Benchmarking with known quantities)\n",
    "- Model in the loop Evaluation (Model as a judge)\n",
    "- Human in the loop Evaluation (Human as a judge)\n",
    "\n",
    "### Automated Evaluation (Benchmarking with known quantities)\n",
    "This is one of the simpler types. When you have a question and a strict answer, you can automate the evaluation.\n",
    "Example:\n",
    "```\n",
    "Question: \"What is the capital of Romania?\"\n",
    "Answer: \"Bucharest\" / \"București\" (and lowercase variants)\n",
    "```\n",
    "```\n",
    "Question: What is 2 + 2?\n",
    "A. 3\n",
    "B. 4\n",
    "C. 5\n",
    "\n",
    "Answer: B\n",
    "```\n",
    "\n",
    "Answers are easy to parse and other responses are wrong.\n",
    "\n",
    "### Model in the loop Evaluation (Model as a judge)\n",
    "This is a more complex type, but still automatable using a second competent LLM, called a judge.\n",
    "\n",
    "Example:\n",
    "```\n",
    "Input: What if these shoes don't fit?\n",
    "Expected: You're eligible for a free full refund within 30 days of purchase.\n",
    "Predicted: We offer a 30-day full refund at no extra cost.\n",
    "```\n",
    "\n",
    "In this case, the judge LLM is given the input, the expected answer and the predicted answer.  \n",
    "It then decides if the predicted answer is correct or not.\n",
    "\n",
    "### Human in the loop Evaluation (Human as a judge)\n",
    "This is the most complex type, but also the most accurate, as it can account for nuances, emotions, and has deeper understanding of the task.  \n",
    "The human judge is given the input, the expected answer and the predicted answer.  \n",
    "The human judge then decides if the prediction is correct.\n"
   ]
  },
  {
   "cell_type": "code",
   "execution_count": 46,
   "metadata": {},
   "outputs": [
    {
     "name": "stderr",
     "output_type": "stream",
     "text": [
      "huggingface/tokenizers: The current process just got forked, after parallelism has already been used. Disabling parallelism to avoid deadlocks...\n",
      "To disable this warning, you can either:\n",
      "\t- Avoid using `tokenizers` before the fork if possible\n",
      "\t- Explicitly set the environment variable TOKENIZERS_PARALLELISM=(true | false)\n"
     ]
    },
    {
     "name": "stdout",
     "output_type": "stream",
     "text": [
      "\n",
      "\u001b[1m[\u001b[0m\u001b[34;49mnotice\u001b[0m\u001b[1;39;49m]\u001b[0m\u001b[39;49m A new release of pip is available: \u001b[0m\u001b[31;49m23.0.1\u001b[0m\u001b[39;49m -> \u001b[0m\u001b[32;49m24.3.1\u001b[0m\n",
      "\u001b[1m[\u001b[0m\u001b[34;49mnotice\u001b[0m\u001b[1;39;49m]\u001b[0m\u001b[39;49m To update, run: \u001b[0m\u001b[32;49mpip install --upgrade pip\u001b[0m\n"
     ]
    }
   ],
   "source": [
    "!pip install -q transformers datasets torch unsloth ipywidgets scikit-learn numpy plotly pandas matplotlib"
   ]
  },
  {
   "cell_type": "markdown",
   "metadata": {},
   "source": [
    "## Initializing the testing environment"
   ]
  },
  {
   "cell_type": "markdown",
   "metadata": {},
   "source": [
    "Loading the dataset:"
   ]
  },
  {
   "cell_type": "code",
   "execution_count": 2,
   "metadata": {},
   "outputs": [
    {
     "data": {
      "text/plain": [
       "DatasetDict({\n",
       "    train: Dataset({\n",
       "        features: ['question_number', 'question', 'type', 'options', 'grade', 'stage', 'year', 'right_answer', 'source', 'id_in_source', 'dupe_id'],\n",
       "        num_rows: 11368\n",
       "    })\n",
       "    validation: Dataset({\n",
       "        features: ['question_number', 'question', 'type', 'options', 'grade', 'stage', 'year', 'right_answer', 'source', 'id_in_source', 'dupe_id'],\n",
       "        num_rows: 1376\n",
       "    })\n",
       "    test: Dataset({\n",
       "        features: ['question_number', 'question', 'type', 'options', 'grade', 'stage', 'year', 'right_answer', 'source', 'id_in_source', 'dupe_id'],\n",
       "        num_rows: 1388\n",
       "    })\n",
       "})"
      ]
     },
     "execution_count": 2,
     "metadata": {},
     "output_type": "execute_result"
    }
   ],
   "source": [
    "from datasets import load_dataset\n",
    "\n",
    "dataset = load_dataset(\"RoBiology/RoBiologyDataChoiceQA\")\n",
    "dataset"
   ]
  },
  {
   "cell_type": "code",
   "execution_count": 3,
   "metadata": {},
   "outputs": [
    {
     "data": {
      "text/plain": [
       "Dataset({\n",
       "    features: ['question_number', 'question', 'type', 'options', 'grade', 'stage', 'year', 'right_answer', 'source', 'id_in_source', 'dupe_id'],\n",
       "    num_rows: 588\n",
       "})"
      ]
     },
     "execution_count": 3,
     "metadata": {},
     "output_type": "execute_result"
    }
   ],
   "source": [
    "test_ds = dataset['test'].filter(lambda x: x['type'] == 'single-choice')\n",
    "test_ds"
   ]
  },
  {
   "cell_type": "markdown",
   "metadata": {},
   "source": [
    "Loading the tokenizer and model:"
   ]
  },
  {
   "cell_type": "code",
   "execution_count": 5,
   "metadata": {},
   "outputs": [],
   "source": [
    "from transformers import AutoTokenizer, AutoModelForCausalLM\n",
    "\n",
    "tokenizer = AutoTokenizer.from_pretrained(\"unsloth/Llama-3.2-3B-Instruct\")\n",
    "model = AutoModelForCausalLM.from_pretrained(\"unsloth/Llama-3.2-3B-Instruct\", device_map='cuda')"
   ]
  },
  {
   "cell_type": "markdown",
   "metadata": {},
   "source": [
    "Setting up the input for the model:"
   ]
  },
  {
   "cell_type": "code",
   "execution_count": 7,
   "metadata": {},
   "outputs": [],
   "source": [
    "def create_chat_prompt(instruction: str, input: str, response: str|None = None):\n",
    "    return tokenizer.apply_chat_template(\n",
    "        [\n",
    "            {\"role\": \"system\", \"content\": instruction},\n",
    "            {\"role\": \"user\", \"content\": input},\n",
    "            *([{\"role\": \"assistant\", \"content\": response}] if response else []),\n",
    "        ],\n",
    "        tokenize=False,\n",
    "        add_generation_prompt=True,\n",
    "    )"
   ]
  },
  {
   "cell_type": "code",
   "execution_count": 8,
   "metadata": {},
   "outputs": [
    {
     "name": "stdout",
     "output_type": "stream",
     "text": [
      "<|begin_of_text|><|start_header_id|>system<|end_header_id|>\n",
      "\n",
      "Cutting Knowledge Date: December 2023\n",
      "Today Date: 07 Dec 2024\n",
      "\n",
      "Answer the question based on the given options. Respond by writing only the letter of the correct answer.<|eot_id|><|start_header_id|>user<|end_header_id|>\n",
      "\n",
      "Următorul reflex este monosinaptic:\n",
      "A. rotulian\n",
      "B. cardioaccelerator\n",
      "C. de apărare\n",
      "D. vasoconstrictor<|eot_id|><|start_header_id|>assistant<|end_header_id|>\n",
      "\n",
      "\n"
     ]
    }
   ],
   "source": [
    "instuction = \"Answer the question based on the given options. Respond by writing only the letter of the correct answer.\"\n",
    "\n",
    "print(create_chat_prompt(\n",
    "    instuction,\n",
    "    \"\\n\".join([test_ds[0][\"question\"]] + test_ds[0][\"options\"]),\n",
    "    # test_ds[0][\"right_answer\"],\n",
    "))"
   ]
  },
  {
   "cell_type": "code",
   "execution_count": 9,
   "metadata": {},
   "outputs": [
    {
     "data": {
      "application/vnd.jupyter.widget-view+json": {
       "model_id": "3bb0bf6258e043a39d97b2b893986c3f",
       "version_major": 2,
       "version_minor": 0
      },
      "text/plain": [
       "Map:   0%|          | 0/588 [00:00<?, ? examples/s]"
      ]
     },
     "metadata": {},
     "output_type": "display_data"
    }
   ],
   "source": [
    "test_ds = test_ds.map(lambda x: {\n",
    "    \"chat\": create_chat_prompt(instuction, '\\n'.join([x['question']] + x['options'])) \n",
    "})"
   ]
  },
  {
   "cell_type": "markdown",
   "metadata": {},
   "source": [
    "## Running the model\n",
    "\n",
    "We are using a simple evaluation methodology:\n",
    "- Prefill the model with the chat prompt\n",
    "- Generate the probability distribution for the next token\n",
    "- Save the most likely token\n",
    "- Save the top 10 tokens and their scores\n",
    "\n",
    "Generation is done without any sampling (and temperature = 0).  \n",
    "The probability distribution untouched, as outputed from the model.  \n",
    "This is to have a deterministic evaluation.\n"
   ]
  },
  {
   "cell_type": "code",
   "execution_count": 11,
   "metadata": {},
   "outputs": [
    {
     "name": "stderr",
     "output_type": "stream",
     "text": [
      "100%|██████████| 588/588 [00:20<00:00, 28.08it/s]\n"
     ]
    }
   ],
   "source": [
    "from tqdm import tqdm\n",
    "import torch\n",
    "\n",
    "\n",
    "def test_model(model, seed=42, do_sample=False, temperature=0):\n",
    "    answers = []\n",
    "\n",
    "    for entry in tqdm(test_ds):\n",
    "        # set seed\n",
    "        torch.manual_seed(seed)\n",
    "\n",
    "        # tokenize\n",
    "        input = tokenizer(\n",
    "            entry[\"chat\"],\n",
    "            return_tensors=\"pt\",\n",
    "        ).to(model.device)\n",
    "\n",
    "        # generate and return sequence, scores and logits, with given temperature and sampling\n",
    "        response = model.generate(\n",
    "            **input,\n",
    "            max_new_tokens=1,\n",
    "            do_sample=do_sample,\n",
    "            temperature=temperature,\n",
    "            return_dict_in_generate=True,\n",
    "            output_scores=True,\n",
    "            output_logits=True,\n",
    "            pad_token_id=tokenizer.eos_token_id,\n",
    "        )\n",
    "\n",
    "        # decode answer\n",
    "        output = tokenizer.decode(\n",
    "            response[\"sequences\"][0][input.input_ids.shape[1] :],\n",
    "            skip_special_tokens=True,\n",
    "        ).strip()\n",
    "\n",
    "        # get top 10 tokens and scores\n",
    "        scores = response[\"scores\"][0]\n",
    "        top_k = scores.topk(10)\n",
    "        top_k_tokens = tokenizer.convert_ids_to_tokens(top_k.indices.reshape(-1, 1))\n",
    "\n",
    "        # append to answers\n",
    "        answers.append(\n",
    "            {\n",
    "                \"pred\": output,\n",
    "                \"top_k_tokens\": top_k_tokens,\n",
    "                \"top_k_scores\": top_k.values.tolist()[0],\n",
    "            }\n",
    "        )\n",
    "\n",
    "    return answers\n",
    "\n",
    "\n",
    "with torch.no_grad():\n",
    "    answers = test_model(model)"
   ]
  },
  {
   "cell_type": "markdown",
   "metadata": {},
   "source": [
    "Example of an output:\n"
   ]
  },
  {
   "cell_type": "code",
   "execution_count": 12,
   "metadata": {},
   "outputs": [
    {
     "data": {
      "text/plain": [
       "{'pred': 'A',\n",
       " 'top_k_tokens': ['A', 'B', 'D', 'C', 'R', 'V', 'E', 'U', 'M', 'S'],\n",
       " 'top_k_scores': [27.942733764648438,\n",
       "  27.89405059814453,\n",
       "  27.47077751159668,\n",
       "  26.390111923217773,\n",
       "  19.076398849487305,\n",
       "  18.385112762451172,\n",
       "  18.295764923095703,\n",
       "  17.976375579833984,\n",
       "  17.62354278564453,\n",
       "  17.048017501831055]}"
      ]
     },
     "execution_count": 12,
     "metadata": {},
     "output_type": "execute_result"
    }
   ],
   "source": [
    "answers[0]"
   ]
  },
  {
   "cell_type": "markdown",
   "metadata": {},
   "source": [
    "## Process results"
   ]
  },
  {
   "cell_type": "markdown",
   "metadata": {},
   "source": [
    "Merge test dataset with answers:"
   ]
  },
  {
   "cell_type": "code",
   "execution_count": 15,
   "metadata": {},
   "outputs": [
    {
     "data": {
      "text/html": [
       "<div>\n",
       "<style scoped>\n",
       "    .dataframe tbody tr th:only-of-type {\n",
       "        vertical-align: middle;\n",
       "    }\n",
       "\n",
       "    .dataframe tbody tr th {\n",
       "        vertical-align: top;\n",
       "    }\n",
       "\n",
       "    .dataframe thead th {\n",
       "        text-align: right;\n",
       "    }\n",
       "</style>\n",
       "<table border=\"1\" class=\"dataframe\">\n",
       "  <thead>\n",
       "    <tr style=\"text-align: right;\">\n",
       "      <th></th>\n",
       "      <th>question_number</th>\n",
       "      <th>question</th>\n",
       "      <th>type</th>\n",
       "      <th>options</th>\n",
       "      <th>grade</th>\n",
       "      <th>stage</th>\n",
       "      <th>year</th>\n",
       "      <th>right_answer</th>\n",
       "      <th>source</th>\n",
       "      <th>id_in_source</th>\n",
       "      <th>dupe_id</th>\n",
       "      <th>chat</th>\n",
       "      <th>pred</th>\n",
       "      <th>top_k_tokens</th>\n",
       "      <th>top_k_scores</th>\n",
       "    </tr>\n",
       "  </thead>\n",
       "  <tbody>\n",
       "    <tr>\n",
       "      <th>0</th>\n",
       "      <td>30</td>\n",
       "      <td>Următorul reflex este monosinaptic:</td>\n",
       "      <td>single-choice</td>\n",
       "      <td>[A. rotulian, B. cardioaccelerator, C. de apăr...</td>\n",
       "      <td>VII</td>\n",
       "      <td>locala</td>\n",
       "      <td>2018</td>\n",
       "      <td>A</td>\n",
       "      <td>olimpiada</td>\n",
       "      <td>arad</td>\n",
       "      <td>None</td>\n",
       "      <td>&lt;|begin_of_text|&gt;&lt;|start_header_id|&gt;system&lt;|en...</td>\n",
       "      <td>A</td>\n",
       "      <td>[A, B, D, C, R, V, E, U, M, S]</td>\n",
       "      <td>[27.942733764648438, 27.89405059814453, 27.470...</td>\n",
       "    </tr>\n",
       "    <tr>\n",
       "      <th>1</th>\n",
       "      <td>25</td>\n",
       "      <td>Axonii neuronilor olfactivi străbat lama ciuru...</td>\n",
       "      <td>single-choice</td>\n",
       "      <td>[A. etmoid, B. sfenoid, C. zigomatic, D. frontal]</td>\n",
       "      <td>VII</td>\n",
       "      <td>locala</td>\n",
       "      <td>2018</td>\n",
       "      <td>A</td>\n",
       "      <td>olimpiada</td>\n",
       "      <td>arad</td>\n",
       "      <td>None</td>\n",
       "      <td>&lt;|begin_of_text|&gt;&lt;|start_header_id|&gt;system&lt;|en...</td>\n",
       "      <td>A</td>\n",
       "      <td>[A, B, C, D, E, S, R, M, V, T]</td>\n",
       "      <td>[29.128841400146484, 28.690753936767578, 25.94...</td>\n",
       "    </tr>\n",
       "    <tr>\n",
       "      <th>2</th>\n",
       "      <td>24</td>\n",
       "      <td>Astigmatismul:</td>\n",
       "      <td>single-choice</td>\n",
       "      <td>[A. este un defect care nu afectează sistemul ...</td>\n",
       "      <td>VII</td>\n",
       "      <td>locala</td>\n",
       "      <td>2018</td>\n",
       "      <td>C</td>\n",
       "      <td>olimpiada</td>\n",
       "      <td>arad</td>\n",
       "      <td>None</td>\n",
       "      <td>&lt;|begin_of_text|&gt;&lt;|start_header_id|&gt;system&lt;|en...</td>\n",
       "      <td>C</td>\n",
       "      <td>[C, B, A, D, R, E, M, V, L, O]</td>\n",
       "      <td>[26.928300857543945, 25.83871841430664, 25.774...</td>\n",
       "    </tr>\n",
       "    <tr>\n",
       "      <th>3</th>\n",
       "      <td>22</td>\n",
       "      <td>Structuri bogat vascularizate sunt:</td>\n",
       "      <td>single-choice</td>\n",
       "      <td>[A. coroida, dermul, B. corneea, mucoasa nazal...</td>\n",
       "      <td>VII</td>\n",
       "      <td>locala</td>\n",
       "      <td>2018</td>\n",
       "      <td>A</td>\n",
       "      <td>olimpiada</td>\n",
       "      <td>arad</td>\n",
       "      <td>None</td>\n",
       "      <td>&lt;|begin_of_text|&gt;&lt;|start_header_id|&gt;system&lt;|en...</td>\n",
       "      <td>A</td>\n",
       "      <td>[A, B, D, C, R, E, V, M, S, P]</td>\n",
       "      <td>[26.416179656982422, 26.19873046875, 25.524808...</td>\n",
       "    </tr>\n",
       "    <tr>\n",
       "      <th>4</th>\n",
       "      <td>20</td>\n",
       "      <td>Arcul reflex:</td>\n",
       "      <td>single-choice</td>\n",
       "      <td>[A. este format din 3 componente, B. reprezint...</td>\n",
       "      <td>VII</td>\n",
       "      <td>locala</td>\n",
       "      <td>2018</td>\n",
       "      <td>B</td>\n",
       "      <td>olimpiada</td>\n",
       "      <td>arad</td>\n",
       "      <td>None</td>\n",
       "      <td>&lt;|begin_of_text|&gt;&lt;|start_header_id|&gt;system&lt;|en...</td>\n",
       "      <td>B</td>\n",
       "      <td>[B, A, C, D, R, E, T, V, S, O]</td>\n",
       "      <td>[28.546669006347656, 27.383541107177734, 27.12...</td>\n",
       "    </tr>\n",
       "    <tr>\n",
       "      <th>...</th>\n",
       "      <td>...</td>\n",
       "      <td>...</td>\n",
       "      <td>...</td>\n",
       "      <td>...</td>\n",
       "      <td>...</td>\n",
       "      <td>...</td>\n",
       "      <td>...</td>\n",
       "      <td>...</td>\n",
       "      <td>...</td>\n",
       "      <td>...</td>\n",
       "      <td>...</td>\n",
       "      <td>...</td>\n",
       "      <td>...</td>\n",
       "      <td>...</td>\n",
       "      <td>...</td>\n",
       "    </tr>\n",
       "    <tr>\n",
       "      <th>583</th>\n",
       "      <td>39</td>\n",
       "      <td>Glicoliza anaerobă se caracterizează prin urmă...</td>\n",
       "      <td>single-choice</td>\n",
       "      <td>[A. randament foarte ridicat, B. transformarea...</td>\n",
       "      <td>facultate</td>\n",
       "      <td>admitere</td>\n",
       "      <td>2020</td>\n",
       "      <td>A</td>\n",
       "      <td>UMF Brasov</td>\n",
       "      <td>metabolismul/varianta_B</td>\n",
       "      <td>None</td>\n",
       "      <td>&lt;|begin_of_text|&gt;&lt;|start_header_id|&gt;system&lt;|en...</td>\n",
       "      <td>D</td>\n",
       "      <td>[D, B, E, A, C, R, G, O, F, S]</td>\n",
       "      <td>[25.47475814819336, 24.43821144104004, 24.4042...</td>\n",
       "    </tr>\n",
       "    <tr>\n",
       "      <th>584</th>\n",
       "      <td>1</td>\n",
       "      <td>Alegeți afirmația incorectă referitoare la aci...</td>\n",
       "      <td>single-choice</td>\n",
       "      <td>[A. prin reacția de beta-oxidare duc la formar...</td>\n",
       "      <td>facultate</td>\n",
       "      <td>admitere</td>\n",
       "      <td>2020</td>\n",
       "      <td>C</td>\n",
       "      <td>UMF Brasov</td>\n",
       "      <td>metabolismul/varianta_B</td>\n",
       "      <td>None</td>\n",
       "      <td>&lt;|begin_of_text|&gt;&lt;|start_header_id|&gt;system&lt;|en...</td>\n",
       "      <td>A</td>\n",
       "      <td>[A, C, B, E, D, R, O, M, L, F]</td>\n",
       "      <td>[22.201313018798828, 21.998310089111328, 21.82...</td>\n",
       "    </tr>\n",
       "    <tr>\n",
       "      <th>585</th>\n",
       "      <td>21</td>\n",
       "      <td>Care dintre următorii hormoni au rol predomina...</td>\n",
       "      <td>single-choice</td>\n",
       "      <td>[A. hormonul somatotrop, B. testosteronul, C. ...</td>\n",
       "      <td>facultate</td>\n",
       "      <td>admitere</td>\n",
       "      <td>2020</td>\n",
       "      <td>C</td>\n",
       "      <td>UMF Brasov</td>\n",
       "      <td>metabolismul/varianta_A</td>\n",
       "      <td>None</td>\n",
       "      <td>&lt;|begin_of_text|&gt;&lt;|start_header_id|&gt;system&lt;|en...</td>\n",
       "      <td>C</td>\n",
       "      <td>[C, A, B, D, E, R, F, M, V, S]</td>\n",
       "      <td>[27.479848861694336, 25.796890258789062, 25.41...</td>\n",
       "    </tr>\n",
       "    <tr>\n",
       "      <th>586</th>\n",
       "      <td>11</td>\n",
       "      <td>Despre rolurile lipidelor în organism nu se po...</td>\n",
       "      <td>single-choice</td>\n",
       "      <td>[A. lipidele aflate în organism reprezintă o r...</td>\n",
       "      <td>facultate</td>\n",
       "      <td>admitere</td>\n",
       "      <td>2020</td>\n",
       "      <td>A</td>\n",
       "      <td>UMF Brasov</td>\n",
       "      <td>metabolismul/varianta_A</td>\n",
       "      <td>None</td>\n",
       "      <td>&lt;|begin_of_text|&gt;&lt;|start_header_id|&gt;system&lt;|en...</td>\n",
       "      <td>C</td>\n",
       "      <td>[C, B, D, E, A, R, O, F, M, P]</td>\n",
       "      <td>[24.079145431518555, 23.989465713500977, 23.46...</td>\n",
       "    </tr>\n",
       "    <tr>\n",
       "      <th>587</th>\n",
       "      <td>8</td>\n",
       "      <td>Care dintre următoarele afirmații este incorectă?</td>\n",
       "      <td>single-choice</td>\n",
       "      <td>[A. glucoza intră în compoziția chilomicronilo...</td>\n",
       "      <td>facultate</td>\n",
       "      <td>admitere</td>\n",
       "      <td>2020</td>\n",
       "      <td>A</td>\n",
       "      <td>UMF Brasov</td>\n",
       "      <td>metabolismul/varianta_A</td>\n",
       "      <td>None</td>\n",
       "      <td>&lt;|begin_of_text|&gt;&lt;|start_header_id|&gt;system&lt;|en...</td>\n",
       "      <td>A</td>\n",
       "      <td>[A, B, C, E, D, R, Let, r, O, L]</td>\n",
       "      <td>[21.752790451049805, 20.564437866210938, 20.24...</td>\n",
       "    </tr>\n",
       "  </tbody>\n",
       "</table>\n",
       "<p>588 rows × 15 columns</p>\n",
       "</div>"
      ],
      "text/plain": [
       "    question_number                                           question  \\\n",
       "0                30                Următorul reflex este monosinaptic:   \n",
       "1                25  Axonii neuronilor olfactivi străbat lama ciuru...   \n",
       "2                24                                     Astigmatismul:   \n",
       "3                22                Structuri bogat vascularizate sunt:   \n",
       "4                20                                      Arcul reflex:   \n",
       "..              ...                                                ...   \n",
       "583              39  Glicoliza anaerobă se caracterizează prin urmă...   \n",
       "584               1  Alegeți afirmația incorectă referitoare la aci...   \n",
       "585              21  Care dintre următorii hormoni au rol predomina...   \n",
       "586              11  Despre rolurile lipidelor în organism nu se po...   \n",
       "587               8  Care dintre următoarele afirmații este incorectă?   \n",
       "\n",
       "              type                                            options  \\\n",
       "0    single-choice  [A. rotulian, B. cardioaccelerator, C. de apăr...   \n",
       "1    single-choice  [A. etmoid, B. sfenoid, C. zigomatic, D. frontal]   \n",
       "2    single-choice  [A. este un defect care nu afectează sistemul ...   \n",
       "3    single-choice  [A. coroida, dermul, B. corneea, mucoasa nazal...   \n",
       "4    single-choice  [A. este format din 3 componente, B. reprezint...   \n",
       "..             ...                                                ...   \n",
       "583  single-choice  [A. randament foarte ridicat, B. transformarea...   \n",
       "584  single-choice  [A. prin reacția de beta-oxidare duc la formar...   \n",
       "585  single-choice  [A. hormonul somatotrop, B. testosteronul, C. ...   \n",
       "586  single-choice  [A. lipidele aflate în organism reprezintă o r...   \n",
       "587  single-choice  [A. glucoza intră în compoziția chilomicronilo...   \n",
       "\n",
       "         grade     stage  year right_answer      source  \\\n",
       "0          VII    locala  2018            A   olimpiada   \n",
       "1          VII    locala  2018            A   olimpiada   \n",
       "2          VII    locala  2018            C   olimpiada   \n",
       "3          VII    locala  2018            A   olimpiada   \n",
       "4          VII    locala  2018            B   olimpiada   \n",
       "..         ...       ...   ...          ...         ...   \n",
       "583  facultate  admitere  2020            A  UMF Brasov   \n",
       "584  facultate  admitere  2020            C  UMF Brasov   \n",
       "585  facultate  admitere  2020            C  UMF Brasov   \n",
       "586  facultate  admitere  2020            A  UMF Brasov   \n",
       "587  facultate  admitere  2020            A  UMF Brasov   \n",
       "\n",
       "                id_in_source dupe_id  \\\n",
       "0                       arad    None   \n",
       "1                       arad    None   \n",
       "2                       arad    None   \n",
       "3                       arad    None   \n",
       "4                       arad    None   \n",
       "..                       ...     ...   \n",
       "583  metabolismul/varianta_B    None   \n",
       "584  metabolismul/varianta_B    None   \n",
       "585  metabolismul/varianta_A    None   \n",
       "586  metabolismul/varianta_A    None   \n",
       "587  metabolismul/varianta_A    None   \n",
       "\n",
       "                                                  chat pred  \\\n",
       "0    <|begin_of_text|><|start_header_id|>system<|en...    A   \n",
       "1    <|begin_of_text|><|start_header_id|>system<|en...    A   \n",
       "2    <|begin_of_text|><|start_header_id|>system<|en...    C   \n",
       "3    <|begin_of_text|><|start_header_id|>system<|en...    A   \n",
       "4    <|begin_of_text|><|start_header_id|>system<|en...    B   \n",
       "..                                                 ...  ...   \n",
       "583  <|begin_of_text|><|start_header_id|>system<|en...    D   \n",
       "584  <|begin_of_text|><|start_header_id|>system<|en...    A   \n",
       "585  <|begin_of_text|><|start_header_id|>system<|en...    C   \n",
       "586  <|begin_of_text|><|start_header_id|>system<|en...    C   \n",
       "587  <|begin_of_text|><|start_header_id|>system<|en...    A   \n",
       "\n",
       "                         top_k_tokens  \\\n",
       "0      [A, B, D, C, R, V, E, U, M, S]   \n",
       "1      [A, B, C, D, E, S, R, M, V, T]   \n",
       "2      [C, B, A, D, R, E, M, V, L, O]   \n",
       "3      [A, B, D, C, R, E, V, M, S, P]   \n",
       "4      [B, A, C, D, R, E, T, V, S, O]   \n",
       "..                                ...   \n",
       "583    [D, B, E, A, C, R, G, O, F, S]   \n",
       "584    [A, C, B, E, D, R, O, M, L, F]   \n",
       "585    [C, A, B, D, E, R, F, M, V, S]   \n",
       "586    [C, B, D, E, A, R, O, F, M, P]   \n",
       "587  [A, B, C, E, D, R, Let, r, O, L]   \n",
       "\n",
       "                                          top_k_scores  \n",
       "0    [27.942733764648438, 27.89405059814453, 27.470...  \n",
       "1    [29.128841400146484, 28.690753936767578, 25.94...  \n",
       "2    [26.928300857543945, 25.83871841430664, 25.774...  \n",
       "3    [26.416179656982422, 26.19873046875, 25.524808...  \n",
       "4    [28.546669006347656, 27.383541107177734, 27.12...  \n",
       "..                                                 ...  \n",
       "583  [25.47475814819336, 24.43821144104004, 24.4042...  \n",
       "584  [22.201313018798828, 21.998310089111328, 21.82...  \n",
       "585  [27.479848861694336, 25.796890258789062, 25.41...  \n",
       "586  [24.079145431518555, 23.989465713500977, 23.46...  \n",
       "587  [21.752790451049805, 20.564437866210938, 20.24...  \n",
       "\n",
       "[588 rows x 15 columns]"
      ]
     },
     "execution_count": 15,
     "metadata": {},
     "output_type": "execute_result"
    }
   ],
   "source": [
    "import pandas as pd\n",
    "test_df = pd.DataFrame(test_ds)\n",
    "answers_df = pd.DataFrame(answers).rename(columns={'output': 'pred'})\n",
    "\n",
    "answers_df = test_df.join(answers_df)\n",
    "answers_df"
   ]
  },
  {
   "cell_type": "markdown",
   "metadata": {},
   "source": [
    "Show predictions:"
   ]
  },
  {
   "cell_type": "code",
   "execution_count": 16,
   "metadata": {},
   "outputs": [
    {
     "data": {
      "text/plain": [
       "pred\n",
       "B    196\n",
       "A    184\n",
       "C    135\n",
       "D     70\n",
       "E      3\n",
       "Name: count, dtype: int64"
      ]
     },
     "execution_count": 16,
     "metadata": {},
     "output_type": "execute_result"
    }
   ],
   "source": [
    "answers_df['pred'].value_counts()"
   ]
  },
  {
   "cell_type": "markdown",
   "metadata": {},
   "source": [
    "Compute accuracy:"
   ]
  },
  {
   "cell_type": "code",
   "execution_count": 17,
   "metadata": {},
   "outputs": [
    {
     "name": "stdout",
     "output_type": "stream",
     "text": [
      "Accuracy: 30.61%\n"
     ]
    },
    {
     "data": {
      "text/plain": [
       "correct\n",
       "False    408\n",
       "True     180\n",
       "Name: count, dtype: int64"
      ]
     },
     "execution_count": 17,
     "metadata": {},
     "output_type": "execute_result"
    }
   ],
   "source": [
    "answers_df['correct'] = answers_df['right_answer'] == answers_df['pred']\n",
    "print(f'Accuracy: {answers_df[\"correct\"].mean() * 100:.2f}%')\n",
    "answers_df['correct'].value_counts()"
   ]
  },
  {
   "cell_type": "markdown",
   "metadata": {},
   "source": [
    "Show a confusion matrix.\n",
    "\n",
    "A confusion matrix is a table that is used to evaluate the performance of a classification model.\n",
    "It shows the number of correct and incorrect predictions for each class.\n",
    "\n",
    "On Y we have the true labels and on X we have the predicted labels."
   ]
  },
  {
   "cell_type": "code",
   "execution_count": 53,
   "metadata": {},
   "outputs": [
    {
     "data": {
      "image/png": "[encoded data removed]",
      "text/plain": [
       "<Figure size 800x800 with 2 Axes>"
      ]
     },
     "metadata": {},
     "output_type": "display_data"
    }
   ],
   "source": [
    "from sklearn.metrics import confusion_matrix\n",
    "import matplotlib.pyplot as plt\n",
    "import numpy as np\n",
    "\n",
    "def show_confusion_matrix(df):\n",
    "    # Extract true and predicted labels\n",
    "    y_true = df['right_answer'].tolist()\n",
    "    y_pred = df['pred'].tolist()\n",
    "\n",
    "    # Get unique labels in sorted order\n",
    "    labels = sorted(list(set(y_true + y_pred)))\n",
    "\n",
    "    # Create confusion matrix\n",
    "    cm = confusion_matrix(y_true, y_pred, labels=labels)\n",
    "\n",
    "    # Create figure and axis\n",
    "    fig, ax = plt.subplots(figsize=(8, 8))\n",
    "    \n",
    "    # Create heatmap with origin='lower' to start from bottom\n",
    "    im = ax.imshow(cm, cmap='Blues', origin='lower')\n",
    "\n",
    "    # Add colorbar\n",
    "    plt.colorbar(im)\n",
    "\n",
    "    # Show all ticks and label them\n",
    "    ax.set_xticks(np.arange(len(labels)))\n",
    "    ax.set_yticks(np.arange(len(labels)))\n",
    "    ax.set_xticklabels(labels)\n",
    "    ax.set_yticklabels(labels)\n",
    "\n",
    "    # Rotate the tick labels and set their alignment\n",
    "    plt.setp(ax.get_xticklabels(), rotation=45, ha=\"right\", rotation_mode=\"anchor\")\n",
    "\n",
    "    # Loop over data dimensions and create text annotations\n",
    "    for i in range(len(labels)):\n",
    "        for j in range(len(labels)):\n",
    "            text = ax.text(j, i, cm[i, j],\n",
    "                         ha=\"center\", va=\"center\", color=\"black\")\n",
    "\n",
    "    # Add labels and title\n",
    "    ax.set_title('Confusion Matrix')\n",
    "    ax.set_xlabel('Predicted')\n",
    "    ax.set_ylabel('True')\n",
    "\n",
    "    # Ensure the plot is tight in the figure\n",
    "    plt.tight_layout()\n",
    "    \n",
    "    plt.show()\n",
    "\n",
    "show_confusion_matrix(answers_df)"
   ]
  },
  {
   "cell_type": "markdown",
   "metadata": {},
   "source": [
    "As you can observe, the model is not very confident about its predictions.  \n",
    "The confusion matrix should show a strong 1st degree diagonal, but the answers are spread over the entire matrix."
   ]
  },
  {
   "cell_type": "markdown",
   "metadata": {},
   "source": [
    "Let's inspect the individual predictions and look at:\n",
    "- the top 10 predicted tokens and their scores\n",
    "- the softmax scores for the top 10 tokens"
   ]
  },
  {
   "cell_type": "code",
   "execution_count": 50,
   "metadata": {},
   "outputs": [
    {
     "data": {
      "application/vnd.jupyter.widget-view+json": {
       "model_id": "4a9616bb0fa7464f9a89009ded05e5f6",
       "version_major": 2,
       "version_minor": 0
      },
      "text/plain": [
       "HBox(children=(Button(description='Previous', style=ButtonStyle()), Button(description='Next', style=ButtonSty…"
      ]
     },
     "metadata": {},
     "output_type": "display_data"
    },
    {
     "name": "stdout",
     "output_type": "stream",
     "text": [
      "\n",
      "Arcul reflex:\n",
      "A. este format din 3 componente\n",
      "B. reprezintă structura anatomică prin care se realizează actul reflex\n",
      "C. receptorul transformă excitantul în senzație specifică\n",
      "D. reprezintă răspunsul organismului la un stimul\n",
      "\n",
      "✅B: 57.42%\n",
      "---\n",
      "❌A: 17.95%\n",
      "❌C: 13.81%\n",
      "❌D: 10.82%\n",
      "\n"
     ]
    },
    {
     "data": {
      "image/png": "[encoded data removed]",
      "text/plain": [
       "<Figure size 1200x600 with 3 Axes>"
      ]
     },
     "metadata": {},
     "output_type": "display_data"
    }
   ],
   "source": [
    "import matplotlib.pyplot as plt\n",
    "def show_chart_for_row(row, index):\n",
    "    NL = '\\n'\n",
    "    row_scores = row['top_k_scores']\n",
    "    row_scores_softmax = torch.softmax(torch.tensor(row_scores), dim=0).numpy()  #\n",
    "    row_tokens = row['top_k_tokens']\n",
    "\n",
    "    print(f'''\n",
    "{row.question}\n",
    "{NL.join(row.options)}\n",
    "\n",
    "{\"✅\" if row.right_answer == row_tokens[0] else \"❌\"}{row_tokens[0]}: {row_scores_softmax[0] * 100:.2f}%\n",
    "---\n",
    "{NL.join([f'{\"✅\" if row.right_answer == t else \"❌\"}{t}: {s * 100:.2f}%' for t, s in zip(row_tokens, row_scores_softmax)][1:len(row.options)])}\n",
    "''')\n",
    "\n",
    "    # Create figure with two y-axes\n",
    "    fig, ax1 = plt.subplots(figsize=(12, 6))\n",
    "    ax2 = ax1.twinx()\n",
    "    ax3 = ax1.twinx()\n",
    "    \n",
    "    # Set the position of the third y-axis\n",
    "    ax3.spines['right'].set_position(('axes', 1.15))\n",
    "\n",
    "    # Plot raw scores\n",
    "    x = np.arange(len(row_tokens))\n",
    "    raw_bars = ax1.bar(x - 0.2, row_scores, 0.4, label='Raw Scores', color='#1f77b4')\n",
    "    ax1.bar_label(raw_bars, fmt='%.2f', padding=3)\n",
    "    \n",
    "    # Plot softmax scores\n",
    "    softmax_bars = ax2.bar(x + 0.2, row_scores_softmax, 0.4, label='Softmax Scores', color='#ff7f0e')\n",
    "    ax2.bar_label(softmax_bars, fmt='%.2f', padding=3)\n",
    "    \n",
    "    # Plot right answer indicator\n",
    "    right_answer_values = [1 if token == row.right_answer else 0 for token in row_tokens]\n",
    "    right_bars = ax3.bar(x, right_answer_values, 0.2, label='Right Answer', color='limegreen')\n",
    "    \n",
    "    # Set labels and title\n",
    "    ax1.set_xlabel('Tokens')\n",
    "    ax1.set_ylabel('Raw Scores')\n",
    "    ax2.set_ylabel('Softmax Scores')\n",
    "    ax3.set_ylabel('Right Answer')\n",
    "    \n",
    "    plt.title(f'Top-K Token Scores for {row.question_number=} / {index=}')\n",
    "    \n",
    "    # Set x-axis ticks\n",
    "    plt.xticks(x, row_tokens)\n",
    "    \n",
    "    # Set y-axis limits for right answer indicator\n",
    "    ax3.set_ylim(0, 1.2)\n",
    "    ax3.set_yticks([])  # Hide y-ticks for right answer\n",
    "    \n",
    "    # Hide all spines and labels for ax3\n",
    "    ax3.set_frame_on(False)\n",
    "    ax3.set_ylabel('')\n",
    "    \n",
    "    # Add legend\n",
    "    lines1, labels1 = ax1.get_legend_handles_labels()\n",
    "    lines2, labels2 = ax2.get_legend_handles_labels()\n",
    "    lines3, labels3 = ax3.get_legend_handles_labels()\n",
    "    ax1.legend(lines1 + lines2 + lines3, labels1 + labels2 + labels3, \n",
    "              loc='upper right', bbox_to_anchor=(1.25, 1))\n",
    "    \n",
    "    plt.tight_layout()\n",
    "    plt.show()\n",
    "\n",
    "# Create buttons for navigation\n",
    "from ipywidgets import Button, HBox, widgets\n",
    "import IPython.display as display\n",
    "\n",
    "current_index = 0\n",
    "\n",
    "def show_prev(_):\n",
    "    global current_index\n",
    "    current_index = max(0, current_index - 1)\n",
    "    display.clear_output(wait=True)\n",
    "    display_buttons()\n",
    "    show_chart_for_row(answers_df.iloc[current_index], current_index)\n",
    "\n",
    "def show_next(_):\n",
    "    global current_index \n",
    "    current_index = min(len(answers_df) - 1, current_index + 1)\n",
    "    display.clear_output(wait=True)\n",
    "    display_buttons()\n",
    "    show_chart_for_row(answers_df.iloc[current_index], current_index)\n",
    "\n",
    "def on_index_change(change):\n",
    "    global current_index\n",
    "    current_index = max(0, min(change.new, len(answers_df)-1))\n",
    "    display.clear_output(wait=True)\n",
    "    display_buttons()\n",
    "    show_chart_for_row(answers_df.iloc[current_index], current_index)\n",
    "\n",
    "def display_buttons():\n",
    "    prev_button = Button(description='Previous')\n",
    "    next_button = Button(description='Next')\n",
    "    index_input = widgets.IntText(\n",
    "        value=current_index,\n",
    "        description='Index:',\n",
    "        min=0,\n",
    "        max=len(answers_df)-1\n",
    "    )\n",
    "    prev_button.on_click(show_prev)\n",
    "    next_button.on_click(show_next)\n",
    "    index_input.observe(on_index_change, names='value')\n",
    "    display.display(HBox([prev_button, next_button, index_input]))\n",
    "\n",
    "# Show initial chart and buttons\n",
    "display_buttons()\n",
    "show_chart_for_row(answers_df.iloc[current_index], current_index)"
   ]
  },
  {
   "cell_type": "markdown",
   "metadata": {},
   "source": [
    "Here are a few observations:\n",
    "- Index 0:\n",
    "  - Model is not confident in its prediction, having A and B with similar scores (36%, 34% respectively)\n",
    "  - The correct answer is A (36%) which is the one predicted, but confidence is low\n",
    "- Index 2:\n",
    "  - Model is somewhat confident in it's prediction of C (59%) which is correct\n",
    "- Index 5: \n",
    "  - Model is not confident, and the correct answer (C) is 4th on the list of probabilities (15%)\n",
    "- Index 8:\n",
    "  - Model is somewhat confidently wrong, having picked D (53%) instead of the correct answer A (15%)\n",
    "- Index 16, 19, 20: \n",
    "  - Strong confidence in the correct answer\n",
    "- Index 34:\n",
    "  - Strong confidence in the wrong answer"
   ]
  },
  {
   "cell_type": "markdown",
   "metadata": {},
   "source": [
    "Let's add softmax to our dataframe:"
   ]
  },
  {
   "cell_type": "code",
   "execution_count": 21,
   "metadata": {},
   "outputs": [],
   "source": [
    "answers_df['top_k_scores_softmax'] = answers_df['top_k_scores'].apply(lambda x: torch.softmax(torch.tensor(x), dim=0).numpy())\n",
    "confident_answers = answers_df[answers_df['top_k_scores_softmax'].apply(lambda x: x[0] > 0.5)]"
   ]
  },
  {
   "cell_type": "code",
   "execution_count": 26,
   "metadata": {},
   "outputs": [
    {
     "name": "stdout",
     "output_type": "stream",
     "text": [
      "Confident answers: 29.76%\n",
      "Accuracy: 42.86%\n"
     ]
    }
   ],
   "source": [
    "print(f'Confident answers: {confident_answers.shape[0] / answers_df.shape[0] * 100:.2f}%')\n",
    "print(f'Accuracy: {confident_answers[\"correct\"].mean() * 100:.2f}%')"
   ]
  },
  {
   "cell_type": "code",
   "execution_count": 33,
   "metadata": {},
   "outputs": [
    {
     "data": {
      "application/vnd.plotly.v1+json": {
       "config": {
        "plotlyServerURL": "https://plot.ly"
       },
       "data": [
        {
         "colorscale": [
          [
           0,
           "rgb(247,251,255)"
          ],
          [
           0.125,
           "rgb(222,235,247)"
          ],
          [
           0.25,
           "rgb(198,219,239)"
          ],
          [
           0.375,
           "rgb(158,202,225)"
          ],
          [
           0.5,
           "rgb(107,174,214)"
          ],
          [
           0.625,
           "rgb(66,146,198)"
          ],
          [
           0.75,
           "rgb(33,113,181)"
          ],
          [
           0.875,
           "rgb(8,81,156)"
          ],
          [
           1,
           "rgb(8,48,107)"
          ]
         ],
         "hoverongaps": false,
         "text": [
          [
           17,
           10,
           8,
           2,
           0
          ],
          [
           13,
           17,
           11,
           4,
           0
          ],
          [
           12,
           9,
           29,
           7,
           0
          ],
          [
           5,
           9,
           9,
           10,
           0
          ],
          [
           0,
           1,
           0,
           0,
           2
          ]
         ],
         "textfont": {
          "size": 12
         },
         "texttemplate": "%{text}",
         "type": "heatmap",
         "x": [
          "A",
          "B",
          "C",
          "D",
          "E"
         ],
         "y": [
          "A",
          "B",
          "C",
          "D",
          "E"
         ],
         "z": [
          [
           17,
           10,
           8,
           2,
           0
          ],
          [
           13,
           17,
           11,
           4,
           0
          ],
          [
           12,
           9,
           29,
           7,
           0
          ],
          [
           5,
           9,
           9,
           10,
           0
          ],
          [
           0,
           1,
           0,
           0,
           2
          ]
         ]
        }
       ],
       "layout": {
        "height": 600,
        "template": {
         "data": {
          "bar": [
           {
            "error_x": {
             "color": "#2a3f5f"
            },
            "error_y": {
             "color": "#2a3f5f"
            },
            "marker": {
             "line": {
              "color": "#E5ECF6",
              "width": 0.5
             },
             "pattern": {
              "fillmode": "overlay",
              "size": 10,
              "solidity": 0.2
             }
            },
            "type": "bar"
           }
          ],
          "barpolar": [
           {
            "marker": {
             "line": {
              "color": "#E5ECF6",
              "width": 0.5
             },
             "pattern": {
              "fillmode": "overlay",
              "size": 10,
              "solidity": 0.2
             }
            },
            "type": "barpolar"
           }
          ],
          "carpet": [
           {
            "aaxis": {
             "endlinecolor": "#2a3f5f",
             "gridcolor": "white",
             "linecolor": "white",
             "minorgridcolor": "white",
             "startlinecolor": "#2a3f5f"
            },
            "baxis": {
             "endlinecolor": "#2a3f5f",
             "gridcolor": "white",
             "linecolor": "white",
             "minorgridcolor": "white",
             "startlinecolor": "#2a3f5f"
            },
            "type": "carpet"
           }
          ],
          "choropleth": [
           {
            "colorbar": {
             "outlinewidth": 0,
             "ticks": ""
            },
            "type": "choropleth"
           }
          ],
          "contour": [
           {
            "colorbar": {
             "outlinewidth": 0,
             "ticks": ""
            },
            "colorscale": [
             [
              0,
              "#0d0887"
             ],
             [
              0.1111111111111111,
              "#46039f"
             ],
             [
              0.2222222222222222,
              "#7201a8"
             ],
             [
              0.3333333333333333,
              "#9c179e"
             ],
             [
              0.4444444444444444,
              "#bd3786"
             ],
             [
              0.5555555555555556,
              "#d8576b"
             ],
             [
              0.6666666666666666,
              "#ed7953"
             ],
             [
              0.7777777777777778,
              "#fb9f3a"
             ],
             [
              0.8888888888888888,
              "#fdca26"
             ],
             [
              1,
              "#f0f921"
             ]
            ],
            "type": "contour"
           }
          ],
          "contourcarpet": [
           {
            "colorbar": {
             "outlinewidth": 0,
             "ticks": ""
            },
            "type": "contourcarpet"
           }
          ],
          "heatmap": [
           {
            "colorbar": {
             "outlinewidth": 0,
             "ticks": ""
            },
            "colorscale": [
             [
              0,
              "#0d0887"
             ],
             [
              0.1111111111111111,
              "#46039f"
             ],
             [
              0.2222222222222222,
              "#7201a8"
             ],
             [
              0.3333333333333333,
              "#9c179e"
             ],
             [
              0.4444444444444444,
              "#bd3786"
             ],
             [
              0.5555555555555556,
              "#d8576b"
             ],
             [
              0.6666666666666666,
              "#ed7953"
             ],
             [
              0.7777777777777778,
              "#fb9f3a"
             ],
             [
              0.8888888888888888,
              "#fdca26"
             ],
             [
              1,
              "#f0f921"
             ]
            ],
            "type": "heatmap"
           }
          ],
          "heatmapgl": [
           {
            "colorbar": {
             "outlinewidth": 0,
             "ticks": ""
            },
            "colorscale": [
             [
              0,
              "#0d0887"
             ],
             [
              0.1111111111111111,
              "#46039f"
             ],
             [
              0.2222222222222222,
              "#7201a8"
             ],
             [
              0.3333333333333333,
              "#9c179e"
             ],
             [
              0.4444444444444444,
              "#bd3786"
             ],
             [
              0.5555555555555556,
              "#d8576b"
             ],
             [
              0.6666666666666666,
              "#ed7953"
             ],
             [
              0.7777777777777778,
              "#fb9f3a"
             ],
             [
              0.8888888888888888,
              "#fdca26"
             ],
             [
              1,
              "#f0f921"
             ]
            ],
            "type": "heatmapgl"
           }
          ],
          "histogram": [
           {
            "marker": {
             "pattern": {
              "fillmode": "overlay",
              "size": 10,
              "solidity": 0.2
             }
            },
            "type": "histogram"
           }
          ],
          "histogram2d": [
           {
            "colorbar": {
             "outlinewidth": 0,
             "ticks": ""
            },
            "colorscale": [
             [
              0,
              "#0d0887"
             ],
             [
              0.1111111111111111,
              "#46039f"
             ],
             [
              0.2222222222222222,
              "#7201a8"
             ],
             [
              0.3333333333333333,
              "#9c179e"
             ],
             [
              0.4444444444444444,
              "#bd3786"
             ],
             [
              0.5555555555555556,
              "#d8576b"
             ],
             [
              0.6666666666666666,
              "#ed7953"
             ],
             [
              0.7777777777777778,
              "#fb9f3a"
             ],
             [
              0.8888888888888888,
              "#fdca26"
             ],
             [
              1,
              "#f0f921"
             ]
            ],
            "type": "histogram2d"
           }
          ],
          "histogram2dcontour": [
           {
            "colorbar": {
             "outlinewidth": 0,
             "ticks": ""
            },
            "colorscale": [
             [
              0,
              "#0d0887"
             ],
             [
              0.1111111111111111,
              "#46039f"
             ],
             [
              0.2222222222222222,
              "#7201a8"
             ],
             [
              0.3333333333333333,
              "#9c179e"
             ],
             [
              0.4444444444444444,
              "#bd3786"
             ],
             [
              0.5555555555555556,
              "#d8576b"
             ],
             [
              0.6666666666666666,
              "#ed7953"
             ],
             [
              0.7777777777777778,
              "#fb9f3a"
             ],
             [
              0.8888888888888888,
              "#fdca26"
             ],
             [
              1,
              "#f0f921"
             ]
            ],
            "type": "histogram2dcontour"
           }
          ],
          "mesh3d": [
           {
            "colorbar": {
             "outlinewidth": 0,
             "ticks": ""
            },
            "type": "mesh3d"
           }
          ],
          "parcoords": [
           {
            "line": {
             "colorbar": {
              "outlinewidth": 0,
              "ticks": ""
             }
            },
            "type": "parcoords"
           }
          ],
          "pie": [
           {
            "automargin": true,
            "type": "pie"
           }
          ],
          "scatter": [
           {
            "fillpattern": {
             "fillmode": "overlay",
             "size": 10,
             "solidity": 0.2
            },
            "type": "scatter"
           }
          ],
          "scatter3d": [
           {
            "line": {
             "colorbar": {
              "outlinewidth": 0,
              "ticks": ""
             }
            },
            "marker": {
             "colorbar": {
              "outlinewidth": 0,
              "ticks": ""
             }
            },
            "type": "scatter3d"
           }
          ],
          "scattercarpet": [
           {
            "marker": {
             "colorbar": {
              "outlinewidth": 0,
              "ticks": ""
             }
            },
            "type": "scattercarpet"
           }
          ],
          "scattergeo": [
           {
            "marker": {
             "colorbar": {
              "outlinewidth": 0,
              "ticks": ""
             }
            },
            "type": "scattergeo"
           }
          ],
          "scattergl": [
           {
            "marker": {
             "colorbar": {
              "outlinewidth": 0,
              "ticks": ""
             }
            },
            "type": "scattergl"
           }
          ],
          "scattermapbox": [
           {
            "marker": {
             "colorbar": {
              "outlinewidth": 0,
              "ticks": ""
             }
            },
            "type": "scattermapbox"
           }
          ],
          "scatterpolar": [
           {
            "marker": {
             "colorbar": {
              "outlinewidth": 0,
              "ticks": ""
             }
            },
            "type": "scatterpolar"
           }
          ],
          "scatterpolargl": [
           {
            "marker": {
             "colorbar": {
              "outlinewidth": 0,
              "ticks": ""
             }
            },
            "type": "scatterpolargl"
           }
          ],
          "scatterternary": [
           {
            "marker": {
             "colorbar": {
              "outlinewidth": 0,
              "ticks": ""
             }
            },
            "type": "scatterternary"
           }
          ],
          "surface": [
           {
            "colorbar": {
             "outlinewidth": 0,
             "ticks": ""
            },
            "colorscale": [
             [
              0,
              "#0d0887"
             ],
             [
              0.1111111111111111,
              "#46039f"
             ],
             [
              0.2222222222222222,
              "#7201a8"
             ],
             [
              0.3333333333333333,
              "#9c179e"
             ],
             [
              0.4444444444444444,
              "#bd3786"
             ],
             [
              0.5555555555555556,
              "#d8576b"
             ],
             [
              0.6666666666666666,
              "#ed7953"
             ],
             [
              0.7777777777777778,
              "#fb9f3a"
             ],
             [
              0.8888888888888888,
              "#fdca26"
             ],
             [
              1,
              "#f0f921"
             ]
            ],
            "type": "surface"
           }
          ],
          "table": [
           {
            "cells": {
             "fill": {
              "color": "#EBF0F8"
             },
             "line": {
              "color": "white"
             }
            },
            "header": {
             "fill": {
              "color": "#C8D4E3"
             },
             "line": {
              "color": "white"
             }
            },
            "type": "table"
           }
          ]
         },
         "layout": {
          "annotationdefaults": {
           "arrowcolor": "#2a3f5f",
           "arrowhead": 0,
           "arrowwidth": 1
          },
          "autotypenumbers": "strict",
          "coloraxis": {
           "colorbar": {
            "outlinewidth": 0,
            "ticks": ""
           }
          },
          "colorscale": {
           "diverging": [
            [
             0,
             "#8e0152"
            ],
            [
             0.1,
             "#c51b7d"
            ],
            [
             0.2,
             "#de77ae"
            ],
            [
             0.3,
             "#f1b6da"
            ],
            [
             0.4,
             "#fde0ef"
            ],
            [
             0.5,
             "#f7f7f7"
            ],
            [
             0.6,
             "#e6f5d0"
            ],
            [
             0.7,
             "#b8e186"
            ],
            [
             0.8,
             "#7fbc41"
            ],
            [
             0.9,
             "#4d9221"
            ],
            [
             1,
             "#276419"
            ]
           ],
           "sequential": [
            [
             0,
             "#0d0887"
            ],
            [
             0.1111111111111111,
             "#46039f"
            ],
            [
             0.2222222222222222,
             "#7201a8"
            ],
            [
             0.3333333333333333,
             "#9c179e"
            ],
            [
             0.4444444444444444,
             "#bd3786"
            ],
            [
             0.5555555555555556,
             "#d8576b"
            ],
            [
             0.6666666666666666,
             "#ed7953"
            ],
            [
             0.7777777777777778,
             "#fb9f3a"
            ],
            [
             0.8888888888888888,
             "#fdca26"
            ],
            [
             1,
             "#f0f921"
            ]
           ],
           "sequentialminus": [
            [
             0,
             "#0d0887"
            ],
            [
             0.1111111111111111,
             "#46039f"
            ],
            [
             0.2222222222222222,
             "#7201a8"
            ],
            [
             0.3333333333333333,
             "#9c179e"
            ],
            [
             0.4444444444444444,
             "#bd3786"
            ],
            [
             0.5555555555555556,
             "#d8576b"
            ],
            [
             0.6666666666666666,
             "#ed7953"
            ],
            [
             0.7777777777777778,
             "#fb9f3a"
            ],
            [
             0.8888888888888888,
             "#fdca26"
            ],
            [
             1,
             "#f0f921"
            ]
           ]
          },
          "colorway": [
           "#636efa",
           "#EF553B",
           "#00cc96",
           "#ab63fa",
           "#FFA15A",
           "#19d3f3",
           "#FF6692",
           "#B6E880",
           "#FF97FF",
           "#FECB52"
          ],
          "font": {
           "color": "#2a3f5f"
          },
          "geo": {
           "bgcolor": "white",
           "lakecolor": "white",
           "landcolor": "#E5ECF6",
           "showlakes": true,
           "showland": true,
           "subunitcolor": "white"
          },
          "hoverlabel": {
           "align": "left"
          },
          "hovermode": "closest",
          "mapbox": {
           "style": "light"
          },
          "paper_bgcolor": "white",
          "plot_bgcolor": "#E5ECF6",
          "polar": {
           "angularaxis": {
            "gridcolor": "white",
            "linecolor": "white",
            "ticks": ""
           },
           "bgcolor": "#E5ECF6",
           "radialaxis": {
            "gridcolor": "white",
            "linecolor": "white",
            "ticks": ""
           }
          },
          "scene": {
           "xaxis": {
            "backgroundcolor": "#E5ECF6",
            "gridcolor": "white",
            "gridwidth": 2,
            "linecolor": "white",
            "showbackground": true,
            "ticks": "",
            "zerolinecolor": "white"
           },
           "yaxis": {
            "backgroundcolor": "#E5ECF6",
            "gridcolor": "white",
            "gridwidth": 2,
            "linecolor": "white",
            "showbackground": true,
            "ticks": "",
            "zerolinecolor": "white"
           },
           "zaxis": {
            "backgroundcolor": "#E5ECF6",
            "gridcolor": "white",
            "gridwidth": 2,
            "linecolor": "white",
            "showbackground": true,
            "ticks": "",
            "zerolinecolor": "white"
           }
          },
          "shapedefaults": {
           "line": {
            "color": "#2a3f5f"
           }
          },
          "ternary": {
           "aaxis": {
            "gridcolor": "white",
            "linecolor": "white",
            "ticks": ""
           },
           "baxis": {
            "gridcolor": "white",
            "linecolor": "white",
            "ticks": ""
           },
           "bgcolor": "#E5ECF6",
           "caxis": {
            "gridcolor": "white",
            "linecolor": "white",
            "ticks": ""
           }
          },
          "title": {
           "x": 0.05
          },
          "xaxis": {
           "automargin": true,
           "gridcolor": "white",
           "linecolor": "white",
           "ticks": "",
           "title": {
            "standoff": 15
           },
           "zerolinecolor": "white",
           "zerolinewidth": 2
          },
          "yaxis": {
           "automargin": true,
           "gridcolor": "white",
           "linecolor": "white",
           "ticks": "",
           "title": {
            "standoff": 15
           },
           "zerolinecolor": "white",
           "zerolinewidth": 2
          }
         }
        },
        "title": {
         "text": "Confusion Matrix"
        },
        "width": 600,
        "xaxis": {
         "title": {
          "text": "Predicted"
         }
        },
        "yaxis": {
         "title": {
          "text": "True"
         }
        }
       }
      },
      "text/html": [
       "<div>                            <div id=\"57c7d05e-f5d0-4421-a17c-a228835e674d\" class=\"plotly-graph-div\" style=\"height:600px; width:600px;\"></div>            <script type=\"text/javascript\">                require([\"plotly\"], function(Plotly) {                    window.PLOTLYENV=window.PLOTLYENV || {};                                    if (document.getElementById(\"57c7d05e-f5d0-4421-a17c-a228835e674d\")) {                    Plotly.newPlot(                        \"57c7d05e-f5d0-4421-a17c-a228835e674d\",                        [{\"colorscale\":[[0.0,\"rgb(247,251,255)\"],[0.125,\"rgb(222,235,247)\"],[0.25,\"rgb(198,219,239)\"],[0.375,\"rgb(158,202,225)\"],[0.5,\"rgb(107,174,214)\"],[0.625,\"rgb(66,146,198)\"],[0.75,\"rgb(33,113,181)\"],[0.875,\"rgb(8,81,156)\"],[1.0,\"rgb(8,48,107)\"]],\"hoverongaps\":false,\"text\":[[17,10,8,2,0],[13,17,11,4,0],[12,9,29,7,0],[5,9,9,10,0],[0,1,0,0,2]],\"textfont\":{\"size\":12},\"texttemplate\":\"%{text}\",\"x\":[\"A\",\"B\",\"C\",\"D\",\"E\"],\"y\":[\"A\",\"B\",\"C\",\"D\",\"E\"],\"z\":[[17,10,8,2,0],[13,17,11,4,0],[12,9,29,7,0],[5,9,9,10,0],[0,1,0,0,2]],\"type\":\"heatmap\"}],                        {\"template\":{\"data\":{\"histogram2dcontour\":[{\"type\":\"histogram2dcontour\",\"colorbar\":{\"outlinewidth\":0,\"ticks\":\"\"},\"colorscale\":[[0.0,\"#0d0887\"],[0.1111111111111111,\"#46039f\"],[0.2222222222222222,\"#7201a8\"],[0.3333333333333333,\"#9c179e\"],[0.4444444444444444,\"#bd3786\"],[0.5555555555555556,\"#d8576b\"],[0.6666666666666666,\"#ed7953\"],[0.7777777777777778,\"#fb9f3a\"],[0.8888888888888888,\"#fdca26\"],[1.0,\"#f0f921\"]]}],\"choropleth\":[{\"type\":\"choropleth\",\"colorbar\":{\"outlinewidth\":0,\"ticks\":\"\"}}],\"histogram2d\":[{\"type\":\"histogram2d\",\"colorbar\":{\"outlinewidth\":0,\"ticks\":\"\"},\"colorscale\":[[0.0,\"#0d0887\"],[0.1111111111111111,\"#46039f\"],[0.2222222222222222,\"#7201a8\"],[0.3333333333333333,\"#9c179e\"],[0.4444444444444444,\"#bd3786\"],[0.5555555555555556,\"#d8576b\"],[0.6666666666666666,\"#ed7953\"],[0.7777777777777778,\"#fb9f3a\"],[0.8888888888888888,\"#fdca26\"],[1.0,\"#f0f921\"]]}],\"heatmap\":[{\"type\":\"heatmap\",\"colorbar\":{\"outlinewidth\":0,\"ticks\":\"\"},\"colorscale\":[[0.0,\"#0d0887\"],[0.1111111111111111,\"#46039f\"],[0.2222222222222222,\"#7201a8\"],[0.3333333333333333,\"#9c179e\"],[0.4444444444444444,\"#bd3786\"],[0.5555555555555556,\"#d8576b\"],[0.6666666666666666,\"#ed7953\"],[0.7777777777777778,\"#fb9f3a\"],[0.8888888888888888,\"#fdca26\"],[1.0,\"#f0f921\"]]}],\"heatmapgl\":[{\"type\":\"heatmapgl\",\"colorbar\":{\"outlinewidth\":0,\"ticks\":\"\"},\"colorscale\":[[0.0,\"#0d0887\"],[0.1111111111111111,\"#46039f\"],[0.2222222222222222,\"#7201a8\"],[0.3333333333333333,\"#9c179e\"],[0.4444444444444444,\"#bd3786\"],[0.5555555555555556,\"#d8576b\"],[0.6666666666666666,\"#ed7953\"],[0.7777777777777778,\"#fb9f3a\"],[0.8888888888888888,\"#fdca26\"],[1.0,\"#f0f921\"]]}],\"contourcarpet\":[{\"type\":\"contourcarpet\",\"colorbar\":{\"outlinewidth\":0,\"ticks\":\"\"}}],\"contour\":[{\"type\":\"contour\",\"colorbar\":{\"outlinewidth\":0,\"ticks\":\"\"},\"colorscale\":[[0.0,\"#0d0887\"],[0.1111111111111111,\"#46039f\"],[0.2222222222222222,\"#7201a8\"],[0.3333333333333333,\"#9c179e\"],[0.4444444444444444,\"#bd3786\"],[0.5555555555555556,\"#d8576b\"],[0.6666666666666666,\"#ed7953\"],[0.7777777777777778,\"#fb9f3a\"],[0.8888888888888888,\"#fdca26\"],[1.0,\"#f0f921\"]]}],\"surface\":[{\"type\":\"surface\",\"colorbar\":{\"outlinewidth\":0,\"ticks\":\"\"},\"colorscale\":[[0.0,\"#0d0887\"],[0.1111111111111111,\"#46039f\"],[0.2222222222222222,\"#7201a8\"],[0.3333333333333333,\"#9c179e\"],[0.4444444444444444,\"#bd3786\"],[0.5555555555555556,\"#d8576b\"],[0.6666666666666666,\"#ed7953\"],[0.7777777777777778,\"#fb9f3a\"],[0.8888888888888888,\"#fdca26\"],[1.0,\"#f0f921\"]]}],\"mesh3d\":[{\"type\":\"mesh3d\",\"colorbar\":{\"outlinewidth\":0,\"ticks\":\"\"}}],\"scatter\":[{\"fillpattern\":{\"fillmode\":\"overlay\",\"size\":10,\"solidity\":0.2},\"type\":\"scatter\"}],\"parcoords\":[{\"type\":\"parcoords\",\"line\":{\"colorbar\":{\"outlinewidth\":0,\"ticks\":\"\"}}}],\"scatterpolargl\":[{\"type\":\"scatterpolargl\",\"marker\":{\"colorbar\":{\"outlinewidth\":0,\"ticks\":\"\"}}}],\"bar\":[{\"error_x\":{\"color\":\"#2a3f5f\"},\"error_y\":{\"color\":\"#2a3f5f\"},\"marker\":{\"line\":{\"color\":\"#E5ECF6\",\"width\":0.5},\"pattern\":{\"fillmode\":\"overlay\",\"size\":10,\"solidity\":0.2}},\"type\":\"bar\"}],\"scattergeo\":[{\"type\":\"scattergeo\",\"marker\":{\"colorbar\":{\"outlinewidth\":0,\"ticks\":\"\"}}}],\"scatterpolar\":[{\"type\":\"scatterpolar\",\"marker\":{\"colorbar\":{\"outlinewidth\":0,\"ticks\":\"\"}}}],\"histogram\":[{\"marker\":{\"pattern\":{\"fillmode\":\"overlay\",\"size\":10,\"solidity\":0.2}},\"type\":\"histogram\"}],\"scattergl\":[{\"type\":\"scattergl\",\"marker\":{\"colorbar\":{\"outlinewidth\":0,\"ticks\":\"\"}}}],\"scatter3d\":[{\"type\":\"scatter3d\",\"line\":{\"colorbar\":{\"outlinewidth\":0,\"ticks\":\"\"}},\"marker\":{\"colorbar\":{\"outlinewidth\":0,\"ticks\":\"\"}}}],\"scattermapbox\":[{\"type\":\"scattermapbox\",\"marker\":{\"colorbar\":{\"outlinewidth\":0,\"ticks\":\"\"}}}],\"scatterternary\":[{\"type\":\"scatterternary\",\"marker\":{\"colorbar\":{\"outlinewidth\":0,\"ticks\":\"\"}}}],\"scattercarpet\":[{\"type\":\"scattercarpet\",\"marker\":{\"colorbar\":{\"outlinewidth\":0,\"ticks\":\"\"}}}],\"carpet\":[{\"aaxis\":{\"endlinecolor\":\"#2a3f5f\",\"gridcolor\":\"white\",\"linecolor\":\"white\",\"minorgridcolor\":\"white\",\"startlinecolor\":\"#2a3f5f\"},\"baxis\":{\"endlinecolor\":\"#2a3f5f\",\"gridcolor\":\"white\",\"linecolor\":\"white\",\"minorgridcolor\":\"white\",\"startlinecolor\":\"#2a3f5f\"},\"type\":\"carpet\"}],\"table\":[{\"cells\":{\"fill\":{\"color\":\"#EBF0F8\"},\"line\":{\"color\":\"white\"}},\"header\":{\"fill\":{\"color\":\"#C8D4E3\"},\"line\":{\"color\":\"white\"}},\"type\":\"table\"}],\"barpolar\":[{\"marker\":{\"line\":{\"color\":\"#E5ECF6\",\"width\":0.5},\"pattern\":{\"fillmode\":\"overlay\",\"size\":10,\"solidity\":0.2}},\"type\":\"barpolar\"}],\"pie\":[{\"automargin\":true,\"type\":\"pie\"}]},\"layout\":{\"autotypenumbers\":\"strict\",\"colorway\":[\"#636efa\",\"#EF553B\",\"#00cc96\",\"#ab63fa\",\"#FFA15A\",\"#19d3f3\",\"#FF6692\",\"#B6E880\",\"#FF97FF\",\"#FECB52\"],\"font\":{\"color\":\"#2a3f5f\"},\"hovermode\":\"closest\",\"hoverlabel\":{\"align\":\"left\"},\"paper_bgcolor\":\"white\",\"plot_bgcolor\":\"#E5ECF6\",\"polar\":{\"bgcolor\":\"#E5ECF6\",\"angularaxis\":{\"gridcolor\":\"white\",\"linecolor\":\"white\",\"ticks\":\"\"},\"radialaxis\":{\"gridcolor\":\"white\",\"linecolor\":\"white\",\"ticks\":\"\"}},\"ternary\":{\"bgcolor\":\"#E5ECF6\",\"aaxis\":{\"gridcolor\":\"white\",\"linecolor\":\"white\",\"ticks\":\"\"},\"baxis\":{\"gridcolor\":\"white\",\"linecolor\":\"white\",\"ticks\":\"\"},\"caxis\":{\"gridcolor\":\"white\",\"linecolor\":\"white\",\"ticks\":\"\"}},\"coloraxis\":{\"colorbar\":{\"outlinewidth\":0,\"ticks\":\"\"}},\"colorscale\":{\"sequential\":[[0.0,\"#0d0887\"],[0.1111111111111111,\"#46039f\"],[0.2222222222222222,\"#7201a8\"],[0.3333333333333333,\"#9c179e\"],[0.4444444444444444,\"#bd3786\"],[0.5555555555555556,\"#d8576b\"],[0.6666666666666666,\"#ed7953\"],[0.7777777777777778,\"#fb9f3a\"],[0.8888888888888888,\"#fdca26\"],[1.0,\"#f0f921\"]],\"sequentialminus\":[[0.0,\"#0d0887\"],[0.1111111111111111,\"#46039f\"],[0.2222222222222222,\"#7201a8\"],[0.3333333333333333,\"#9c179e\"],[0.4444444444444444,\"#bd3786\"],[0.5555555555555556,\"#d8576b\"],[0.6666666666666666,\"#ed7953\"],[0.7777777777777778,\"#fb9f3a\"],[0.8888888888888888,\"#fdca26\"],[1.0,\"#f0f921\"]],\"diverging\":[[0,\"#8e0152\"],[0.1,\"#c51b7d\"],[0.2,\"#de77ae\"],[0.3,\"#f1b6da\"],[0.4,\"#fde0ef\"],[0.5,\"#f7f7f7\"],[0.6,\"#e6f5d0\"],[0.7,\"#b8e186\"],[0.8,\"#7fbc41\"],[0.9,\"#4d9221\"],[1,\"#276419\"]]},\"xaxis\":{\"gridcolor\":\"white\",\"linecolor\":\"white\",\"ticks\":\"\",\"title\":{\"standoff\":15},\"zerolinecolor\":\"white\",\"automargin\":true,\"zerolinewidth\":2},\"yaxis\":{\"gridcolor\":\"white\",\"linecolor\":\"white\",\"ticks\":\"\",\"title\":{\"standoff\":15},\"zerolinecolor\":\"white\",\"automargin\":true,\"zerolinewidth\":2},\"scene\":{\"xaxis\":{\"backgroundcolor\":\"#E5ECF6\",\"gridcolor\":\"white\",\"linecolor\":\"white\",\"showbackground\":true,\"ticks\":\"\",\"zerolinecolor\":\"white\",\"gridwidth\":2},\"yaxis\":{\"backgroundcolor\":\"#E5ECF6\",\"gridcolor\":\"white\",\"linecolor\":\"white\",\"showbackground\":true,\"ticks\":\"\",\"zerolinecolor\":\"white\",\"gridwidth\":2},\"zaxis\":{\"backgroundcolor\":\"#E5ECF6\",\"gridcolor\":\"white\",\"linecolor\":\"white\",\"showbackground\":true,\"ticks\":\"\",\"zerolinecolor\":\"white\",\"gridwidth\":2}},\"shapedefaults\":{\"line\":{\"color\":\"#2a3f5f\"}},\"annotationdefaults\":{\"arrowcolor\":\"#2a3f5f\",\"arrowhead\":0,\"arrowwidth\":1},\"geo\":{\"bgcolor\":\"white\",\"landcolor\":\"#E5ECF6\",\"subunitcolor\":\"white\",\"showland\":true,\"showlakes\":true,\"lakecolor\":\"white\"},\"title\":{\"x\":0.05},\"mapbox\":{\"style\":\"light\"}}},\"title\":{\"text\":\"Confusion Matrix\"},\"xaxis\":{\"title\":{\"text\":\"Predicted\"}},\"yaxis\":{\"title\":{\"text\":\"True\"}},\"width\":600,\"height\":600},                        {\"responsive\": true}                    ).then(function(){\n",
       "                            \n",
       "var gd = document.getElementById('57c7d05e-f5d0-4421-a17c-a228835e674d');\n",
       "var x = new MutationObserver(function (mutations, observer) {{\n",
       "        var display = window.getComputedStyle(gd).display;\n",
       "        if (!display || display === 'none') {{\n",
       "            console.log([gd, 'removed!']);\n",
       "            Plotly.purge(gd);\n",
       "            observer.disconnect();\n",
       "        }}\n",
       "}});\n",
       "\n",
       "// Listen for the removal of the full notebook cells\n",
       "var notebookContainer = gd.closest('#notebook-container');\n",
       "if (notebookContainer) {{\n",
       "    x.observe(notebookContainer, {childList: true});\n",
       "}}\n",
       "\n",
       "// Listen for the clearing of the current output cell\n",
       "var outputEl = gd.closest('.output');\n",
       "if (outputEl) {{\n",
       "    x.observe(outputEl, {childList: true});\n",
       "}}\n",
       "\n",
       "                        })                };                });            </script>        </div>"
      ]
     },
     "metadata": {},
     "output_type": "display_data"
    }
   ],
   "source": [
    "show_confusion_matrix(confident_answers)"
   ]
  },
  {
   "cell_type": "code",
   "execution_count": null,
   "metadata": {},
   "outputs": [],
   "source": []
  }
 ],
 "metadata": {
  "kernelspec": {
   "display_name": ".venv",
   "language": "python",
   "name": "python3"
  },
  "language_info": {
   "codemirror_mode": {
    "name": "ipython",
    "version": 3
   },
   "file_extension": ".py",
   "mimetype": "text/x-python",
   "name": "python",
   "nbconvert_exporter": "python",
   "pygments_lexer": "ipython3",
   "version": "3.10.15"
  }
 },
 "nbformat": 4,
 "nbformat_minor": 2
}
