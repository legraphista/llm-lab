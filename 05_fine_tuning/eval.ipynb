{
 "cells": [
  {
   "cell_type": "markdown",
   "metadata": {},
   "source": [
    "# Evaluating LLMs\n",
    "\n",
    "Evaluating models depends on the task you want to evaluate on.  \n",
    "There are a few types of evaluation:\n",
    "- **Automated Evaluation (Benchmarking with known quantities)**  \n",
    "    This is one of the simpler types. When you have a question and a strict answer, you can automate the evaluation.  \n",
    "    Example:  \n",
    "    ```  \n",
    "    Question: \"What is the capital of Romania?\"\n",
    "    Answer: \"Bucharest\" / \"București\" (and lowercase variants)\n",
    "    ```  \n",
    "\n",
    "    ```  \n",
    "    Question: What is 2 + 2?\n",
    "    A. 3\n",
    "    B. 4\n",
    "    C. 5\n",
    "    Answer: B\n",
    "    ```  \n",
    "\n",
    "    Answers are easy to parse and other responses are wrong.  \n",
    "\n",
    "- **Model in the loop Evaluation (Model as a judge)**  \n",
    "    This is a more complex type, but still automatable using a second competent LLM, called a judge.\n",
    "\n",
    "    Example:\n",
    "    ```  \n",
    "    Input: What if these shoes don't fit?\n",
    "    Expected: You're eligible for a free full refund within 30 days of purchase.\n",
    "    Predicted: We offer a 30-day full refund at no extra cost.\n",
    "    ```\n",
    "\n",
    "    In this case, the judge LLM is given the input, the expected answer and the predicted answer.  \n",
    "    It then decides if the predicted answer is correct or not.\n",
    "\n",
    "- **Human in the loop Evaluation (Human as a judge)**  \n",
    "    This is the most complex type, but also the most accurate, as it can account for nuances, emotions, and has deeper understanding of the task.  \n",
    "    The human judge is given the input, the expected answer and the predicted answer.  \n",
    "    The human judge then decides if the prediction is correct.\n",
    "\n",
    "--- \n",
    "\n",
    "There are multiple harnesses available for evaluation:\n",
    "- [lm-evaluation-harness](https://github.com/EleutherAI/lm-evaluation-harness/blob/main/examples/lm-eval-overview.ipynb)\n",
    "- [deepeval](https://github.com/confident-ai/deepeval/blob/main/examples/getting_started/test_example.py)\n",
    "- [MLflow](https://mlflow.org/docs/latest/llms/llm-evaluate/index.html)\n",
    "\n",
    "We will be implementing a simple evaluation methodology for a single-choice question as an exercise.  \n",
    "`RoBiology/RoBiologyDataChoiceQA` filtered on a single-choice question will be our benchmark."
   ]
  },
  {
   "cell_type": "code",
   "execution_count": 1,
   "metadata": {},
   "outputs": [
    {
     "name": "stdout",
     "output_type": "stream",
     "text": [
      "\n",
      "\u001b[1m[\u001b[0m\u001b[34;49mnotice\u001b[0m\u001b[1;39;49m]\u001b[0m\u001b[39;49m A new release of pip is available: \u001b[0m\u001b[31;49m23.0.1\u001b[0m\u001b[39;49m -> \u001b[0m\u001b[32;49m24.3.1\u001b[0m\n",
      "\u001b[1m[\u001b[0m\u001b[34;49mnotice\u001b[0m\u001b[1;39;49m]\u001b[0m\u001b[39;49m To update, run: \u001b[0m\u001b[32;49mpip install --upgrade pip\u001b[0m\n"
     ]
    }
   ],
   "source": [
    "!pip install -q transformers datasets torch unsloth ipywidgets scikit-learn numpy plotly pandas matplotlib hf_transfer\n",
    "import os\n",
    "os.environ['HF_HUB_ENABLE_HF_TRANSFER'] = '1'"
   ]
  },
  {
   "cell_type": "markdown",
   "metadata": {},
   "source": [
    "## Initializing the testing environment"
   ]
  },
  {
   "cell_type": "markdown",
   "metadata": {},
   "source": [
    "Loading the dataset:"
   ]
  },
  {
   "cell_type": "code",
   "execution_count": 2,
   "metadata": {},
   "outputs": [
    {
     "data": {
      "text/plain": [
       "DatasetDict({\n",
       "    train: Dataset({\n",
       "        features: ['question_number', 'question', 'type', 'options', 'grade', 'stage', 'year', 'right_answer', 'source', 'id_in_source', 'dupe_id'],\n",
       "        num_rows: 11368\n",
       "    })\n",
       "    validation: Dataset({\n",
       "        features: ['question_number', 'question', 'type', 'options', 'grade', 'stage', 'year', 'right_answer', 'source', 'id_in_source', 'dupe_id'],\n",
       "        num_rows: 1376\n",
       "    })\n",
       "    test: Dataset({\n",
       "        features: ['question_number', 'question', 'type', 'options', 'grade', 'stage', 'year', 'right_answer', 'source', 'id_in_source', 'dupe_id'],\n",
       "        num_rows: 1388\n",
       "    })\n",
       "})"
      ]
     },
     "execution_count": 2,
     "metadata": {},
     "output_type": "execute_result"
    }
   ],
   "source": [
    "from datasets import load_dataset\n",
    "\n",
    "dataset = load_dataset(\"RoBiology/RoBiologyDataChoiceQA\")\n",
    "dataset"
   ]
  },
  {
   "cell_type": "code",
   "execution_count": 3,
   "metadata": {},
   "outputs": [
    {
     "data": {
      "text/plain": [
       "Dataset({\n",
       "    features: ['question_number', 'question', 'type', 'options', 'grade', 'stage', 'year', 'right_answer', 'source', 'id_in_source', 'dupe_id'],\n",
       "    num_rows: 588\n",
       "})"
      ]
     },
     "execution_count": 3,
     "metadata": {},
     "output_type": "execute_result"
    }
   ],
   "source": [
    "test_ds = dataset['test'].filter(lambda x: x['type'] == 'single-choice')\n",
    "test_ds"
   ]
  },
  {
   "cell_type": "markdown",
   "metadata": {},
   "source": [
    "Loading the tokenizer and model:"
   ]
  },
  {
   "cell_type": "code",
   "execution_count": 4,
   "metadata": {},
   "outputs": [],
   "source": [
    "from transformers import AutoTokenizer, AutoModelForCausalLM\n",
    "\n",
    "tokenizer = AutoTokenizer.from_pretrained(\"unsloth/Llama-3.2-3B-Instruct\")\n",
    "model = AutoModelForCausalLM.from_pretrained(\"unsloth/Llama-3.2-3B-Instruct\", device_map='cuda')"
   ]
  },
  {
   "cell_type": "markdown",
   "metadata": {},
   "source": [
    "Setting up the input for the model:"
   ]
  },
  {
   "cell_type": "code",
   "execution_count": 5,
   "metadata": {},
   "outputs": [],
   "source": [
    "def create_chat_prompt(instruction: str, input: str, response: str|None = None):\n",
    "    return tokenizer.apply_chat_template(\n",
    "        [\n",
    "            {\"role\": \"system\", \"content\": instruction},\n",
    "            {\"role\": \"user\", \"content\": input},\n",
    "            *([{\"role\": \"assistant\", \"content\": response}] if response else []),\n",
    "        ],\n",
    "        tokenize=False,\n",
    "        add_generation_prompt=True,\n",
    "    )"
   ]
  },
  {
   "cell_type": "code",
   "execution_count": 6,
   "metadata": {},
   "outputs": [
    {
     "name": "stdout",
     "output_type": "stream",
     "text": [
      "<|begin_of_text|><|start_header_id|>system<|end_header_id|>\n",
      "\n",
      "Cutting Knowledge Date: December 2023\n",
      "Today Date: 08 Dec 2024\n",
      "\n",
      "Answer the question based on the given options. Respond by writing only the letter of the correct answer.<|eot_id|><|start_header_id|>user<|end_header_id|>\n",
      "\n",
      "Următorul reflex este monosinaptic:\n",
      "A. rotulian\n",
      "B. cardioaccelerator\n",
      "C. de apărare\n",
      "D. vasoconstrictor<|eot_id|><|start_header_id|>assistant<|end_header_id|>\n",
      "\n",
      "\n"
     ]
    }
   ],
   "source": [
    "instuction = \"Answer the question based on the given options. Respond by writing only the letter of the correct answer.\"\n",
    "\n",
    "print(create_chat_prompt(\n",
    "    instuction,\n",
    "    \"\\n\".join([test_ds[0][\"question\"]] + test_ds[0][\"options\"]),\n",
    "    # test_ds[0][\"right_answer\"],\n",
    "))"
   ]
  },
  {
   "cell_type": "code",
   "execution_count": 7,
   "metadata": {},
   "outputs": [],
   "source": [
    "test_ds = test_ds.map(lambda x: {\n",
    "    \"chat\": create_chat_prompt(instuction, '\\n'.join([x['question']] + x['options'])) \n",
    "})"
   ]
  },
  {
   "cell_type": "markdown",
   "metadata": {},
   "source": [
    "## Running the model\n",
    "\n",
    "We are using a simple evaluation methodology:\n",
    "- Prefill the model with the chat prompt\n",
    "- Generate the probability distribution for the next token\n",
    "- Save the most likely token\n",
    "- Save the top 10 tokens and their scores\n",
    "\n",
    "Generation is done without any sampling (and temperature = 0).  \n",
    "The probability distribution untouched, as outputed from the model.  \n",
    "This is to have a deterministic evaluation.\n",
    "\n",
    "---\n",
    "\n",
    "Since we are evaluating a single-choice question, we can use the most likely token as the prediction, but for multiple-choice where multiple tokens have to be selected, a different approach would be needed.\n"
   ]
  },
  {
   "cell_type": "code",
   "execution_count": 8,
   "metadata": {},
   "outputs": [
    {
     "name": "stderr",
     "output_type": "stream",
     "text": [
      "  0%|          | 0/588 [00:00<?, ?it/s]/home/stefan/laborator/.venv/lib/python3.10/site-packages/transformers/generation/configuration_utils.py:590: UserWarning: `do_sample` is set to `False`. However, `temperature` is set to `0` -- this flag is only used in sample-based generation modes. You should set `do_sample=True` or unset `temperature`.\n",
      "  warnings.warn(\n",
      "/home/stefan/laborator/.venv/lib/python3.10/site-packages/transformers/generation/configuration_utils.py:595: UserWarning: `do_sample` is set to `False`. However, `top_p` is set to `0.9` -- this flag is only used in sample-based generation modes. You should set `do_sample=True` or unset `top_p`.\n",
      "  warnings.warn(\n",
      "From v4.47 onwards, when a model cache is to be returned, `generate` will return a `Cache` instance instead by default (as opposed to the legacy tuple of tuples format). If you want to keep returning the legacy format, please set `return_legacy_cache=True`.\n",
      "  0%|          | 1/588 [00:00<06:10,  1.58it/s]/home/stefan/laborator/.venv/lib/python3.10/site-packages/transformers/generation/configuration_utils.py:590: UserWarning: `do_sample` is set to `False`. However, `temperature` is set to `0` -- this flag is only used in sample-based generation modes. You should set `do_sample=True` or unset `temperature`.\n",
      "  warnings.warn(\n",
      "/home/stefan/laborator/.venv/lib/python3.10/site-packages/transformers/generation/configuration_utils.py:595: UserWarning: `do_sample` is set to `False`. However, `top_p` is set to `0.9` -- this flag is only used in sample-based generation modes. You should set `do_sample=True` or unset `top_p`.\n",
      "  warnings.warn(\n",
      "100%|██████████| 588/588 [00:21<00:00, 27.31it/s]\n"
     ]
    }
   ],
   "source": [
    "from tqdm import tqdm\n",
    "import torch\n",
    "\n",
    "\n",
    "def test_model(model, seed=42, do_sample=False, temperature=0):\n",
    "    answers = []\n",
    "\n",
    "    for entry in tqdm(test_ds):\n",
    "        # set seed\n",
    "        torch.manual_seed(seed)\n",
    "\n",
    "        # tokenize\n",
    "        input = tokenizer(\n",
    "            entry[\"chat\"],\n",
    "            return_tensors=\"pt\",\n",
    "        ).to(model.device)\n",
    "\n",
    "        # generate and return sequence, scores and logits, with given temperature and sampling\n",
    "        response = model.generate(\n",
    "            **input,\n",
    "            max_new_tokens=1,\n",
    "            do_sample=do_sample,\n",
    "            temperature=temperature,\n",
    "            return_dict_in_generate=True,\n",
    "            output_scores=True,\n",
    "            output_logits=True,\n",
    "            pad_token_id=tokenizer.eos_token_id,\n",
    "        )\n",
    "\n",
    "        # decode answer\n",
    "        output = tokenizer.decode(\n",
    "            response[\"sequences\"][0][input.input_ids.shape[1] :],\n",
    "            skip_special_tokens=True,\n",
    "        ).strip()\n",
    "\n",
    "        # get top 10 tokens and scores\n",
    "        scores = response[\"scores\"][0]\n",
    "        top_k = scores.topk(10)\n",
    "        top_k_tokens = tokenizer.convert_ids_to_tokens(top_k.indices.reshape(-1, 1))\n",
    "\n",
    "        # append to answers\n",
    "        answers.append(\n",
    "            {\n",
    "                \"pred\": output,\n",
    "                \"top_k_tokens\": top_k_tokens,\n",
    "                \"top_k_scores\": top_k.values.tolist()[0],\n",
    "            }\n",
    "        )\n",
    "\n",
    "    return answers\n",
    "\n",
    "\n",
    "with torch.no_grad():\n",
    "    answers = test_model(model)"
   ]
  },
  {
   "cell_type": "markdown",
   "metadata": {},
   "source": [
    "Example of an output:\n"
   ]
  },
  {
   "cell_type": "code",
   "execution_count": 9,
   "metadata": {},
   "outputs": [
    {
     "data": {
      "text/plain": [
       "{'pred': 'A',\n",
       " 'top_k_tokens': ['A', 'B', 'D', 'C', 'R', 'V', 'E', 'U', 'M', 'S'],\n",
       " 'top_k_scores': [27.942733764648438,\n",
       "  27.89405059814453,\n",
       "  27.47077751159668,\n",
       "  26.390111923217773,\n",
       "  19.076398849487305,\n",
       "  18.385112762451172,\n",
       "  18.295764923095703,\n",
       "  17.976375579833984,\n",
       "  17.62354278564453,\n",
       "  17.048017501831055]}"
      ]
     },
     "execution_count": 9,
     "metadata": {},
     "output_type": "execute_result"
    }
   ],
   "source": [
    "answers[0]"
   ]
  },
  {
   "cell_type": "markdown",
   "metadata": {},
   "source": [
    "## Process results"
   ]
  },
  {
   "cell_type": "markdown",
   "metadata": {},
   "source": [
    "Merge test dataset with answers:"
   ]
  },
  {
   "cell_type": "code",
   "execution_count": 10,
   "metadata": {},
   "outputs": [
    {
     "data": {
      "text/html": [
       "<div>\n",
       "<style scoped>\n",
       "    .dataframe tbody tr th:only-of-type {\n",
       "        vertical-align: middle;\n",
       "    }\n",
       "\n",
       "    .dataframe tbody tr th {\n",
       "        vertical-align: top;\n",
       "    }\n",
       "\n",
       "    .dataframe thead th {\n",
       "        text-align: right;\n",
       "    }\n",
       "</style>\n",
       "<table border=\"1\" class=\"dataframe\">\n",
       "  <thead>\n",
       "    <tr style=\"text-align: right;\">\n",
       "      <th></th>\n",
       "      <th>question_number</th>\n",
       "      <th>question</th>\n",
       "      <th>type</th>\n",
       "      <th>options</th>\n",
       "      <th>grade</th>\n",
       "      <th>stage</th>\n",
       "      <th>year</th>\n",
       "      <th>right_answer</th>\n",
       "      <th>source</th>\n",
       "      <th>id_in_source</th>\n",
       "      <th>dupe_id</th>\n",
       "      <th>chat</th>\n",
       "      <th>pred</th>\n",
       "      <th>top_k_tokens</th>\n",
       "      <th>top_k_scores</th>\n",
       "    </tr>\n",
       "  </thead>\n",
       "  <tbody>\n",
       "    <tr>\n",
       "      <th>0</th>\n",
       "      <td>30</td>\n",
       "      <td>Următorul reflex este monosinaptic:</td>\n",
       "      <td>single-choice</td>\n",
       "      <td>[A. rotulian, B. cardioaccelerator, C. de apăr...</td>\n",
       "      <td>VII</td>\n",
       "      <td>locala</td>\n",
       "      <td>2018</td>\n",
       "      <td>A</td>\n",
       "      <td>olimpiada</td>\n",
       "      <td>arad</td>\n",
       "      <td>None</td>\n",
       "      <td>&lt;|begin_of_text|&gt;&lt;|start_header_id|&gt;system&lt;|en...</td>\n",
       "      <td>A</td>\n",
       "      <td>[A, B, D, C, R, V, E, U, M, S]</td>\n",
       "      <td>[27.942733764648438, 27.89405059814453, 27.470...</td>\n",
       "    </tr>\n",
       "    <tr>\n",
       "      <th>1</th>\n",
       "      <td>25</td>\n",
       "      <td>Axonii neuronilor olfactivi străbat lama ciuru...</td>\n",
       "      <td>single-choice</td>\n",
       "      <td>[A. etmoid, B. sfenoid, C. zigomatic, D. frontal]</td>\n",
       "      <td>VII</td>\n",
       "      <td>locala</td>\n",
       "      <td>2018</td>\n",
       "      <td>A</td>\n",
       "      <td>olimpiada</td>\n",
       "      <td>arad</td>\n",
       "      <td>None</td>\n",
       "      <td>&lt;|begin_of_text|&gt;&lt;|start_header_id|&gt;system&lt;|en...</td>\n",
       "      <td>A</td>\n",
       "      <td>[A, B, C, D, E, S, R, M, V, T]</td>\n",
       "      <td>[29.128841400146484, 28.690753936767578, 25.94...</td>\n",
       "    </tr>\n",
       "    <tr>\n",
       "      <th>2</th>\n",
       "      <td>24</td>\n",
       "      <td>Astigmatismul:</td>\n",
       "      <td>single-choice</td>\n",
       "      <td>[A. este un defect care nu afectează sistemul ...</td>\n",
       "      <td>VII</td>\n",
       "      <td>locala</td>\n",
       "      <td>2018</td>\n",
       "      <td>C</td>\n",
       "      <td>olimpiada</td>\n",
       "      <td>arad</td>\n",
       "      <td>None</td>\n",
       "      <td>&lt;|begin_of_text|&gt;&lt;|start_header_id|&gt;system&lt;|en...</td>\n",
       "      <td>C</td>\n",
       "      <td>[C, B, A, D, R, E, M, V, L, O]</td>\n",
       "      <td>[26.928300857543945, 25.83871841430664, 25.774...</td>\n",
       "    </tr>\n",
       "    <tr>\n",
       "      <th>3</th>\n",
       "      <td>22</td>\n",
       "      <td>Structuri bogat vascularizate sunt:</td>\n",
       "      <td>single-choice</td>\n",
       "      <td>[A. coroida, dermul, B. corneea, mucoasa nazal...</td>\n",
       "      <td>VII</td>\n",
       "      <td>locala</td>\n",
       "      <td>2018</td>\n",
       "      <td>A</td>\n",
       "      <td>olimpiada</td>\n",
       "      <td>arad</td>\n",
       "      <td>None</td>\n",
       "      <td>&lt;|begin_of_text|&gt;&lt;|start_header_id|&gt;system&lt;|en...</td>\n",
       "      <td>A</td>\n",
       "      <td>[A, B, D, C, R, E, V, M, S, P]</td>\n",
       "      <td>[26.416179656982422, 26.19873046875, 25.524808...</td>\n",
       "    </tr>\n",
       "    <tr>\n",
       "      <th>4</th>\n",
       "      <td>20</td>\n",
       "      <td>Arcul reflex:</td>\n",
       "      <td>single-choice</td>\n",
       "      <td>[A. este format din 3 componente, B. reprezint...</td>\n",
       "      <td>VII</td>\n",
       "      <td>locala</td>\n",
       "      <td>2018</td>\n",
       "      <td>B</td>\n",
       "      <td>olimpiada</td>\n",
       "      <td>arad</td>\n",
       "      <td>None</td>\n",
       "      <td>&lt;|begin_of_text|&gt;&lt;|start_header_id|&gt;system&lt;|en...</td>\n",
       "      <td>B</td>\n",
       "      <td>[B, A, C, D, R, E, T, V, S, O]</td>\n",
       "      <td>[28.546669006347656, 27.383541107177734, 27.12...</td>\n",
       "    </tr>\n",
       "    <tr>\n",
       "      <th>...</th>\n",
       "      <td>...</td>\n",
       "      <td>...</td>\n",
       "      <td>...</td>\n",
       "      <td>...</td>\n",
       "      <td>...</td>\n",
       "      <td>...</td>\n",
       "      <td>...</td>\n",
       "      <td>...</td>\n",
       "      <td>...</td>\n",
       "      <td>...</td>\n",
       "      <td>...</td>\n",
       "      <td>...</td>\n",
       "      <td>...</td>\n",
       "      <td>...</td>\n",
       "      <td>...</td>\n",
       "    </tr>\n",
       "    <tr>\n",
       "      <th>583</th>\n",
       "      <td>39</td>\n",
       "      <td>Glicoliza anaerobă se caracterizează prin urmă...</td>\n",
       "      <td>single-choice</td>\n",
       "      <td>[A. randament foarte ridicat, B. transformarea...</td>\n",
       "      <td>facultate</td>\n",
       "      <td>admitere</td>\n",
       "      <td>2020</td>\n",
       "      <td>A</td>\n",
       "      <td>UMF Brasov</td>\n",
       "      <td>metabolismul/varianta_B</td>\n",
       "      <td>None</td>\n",
       "      <td>&lt;|begin_of_text|&gt;&lt;|start_header_id|&gt;system&lt;|en...</td>\n",
       "      <td>D</td>\n",
       "      <td>[D, B, E, A, C, R, G, O, F, S]</td>\n",
       "      <td>[25.47475814819336, 24.43821144104004, 24.4042...</td>\n",
       "    </tr>\n",
       "    <tr>\n",
       "      <th>584</th>\n",
       "      <td>1</td>\n",
       "      <td>Alegeți afirmația incorectă referitoare la aci...</td>\n",
       "      <td>single-choice</td>\n",
       "      <td>[A. prin reacția de beta-oxidare duc la formar...</td>\n",
       "      <td>facultate</td>\n",
       "      <td>admitere</td>\n",
       "      <td>2020</td>\n",
       "      <td>C</td>\n",
       "      <td>UMF Brasov</td>\n",
       "      <td>metabolismul/varianta_B</td>\n",
       "      <td>None</td>\n",
       "      <td>&lt;|begin_of_text|&gt;&lt;|start_header_id|&gt;system&lt;|en...</td>\n",
       "      <td>A</td>\n",
       "      <td>[A, C, B, E, D, R, O, M, L, F]</td>\n",
       "      <td>[22.201313018798828, 21.998310089111328, 21.82...</td>\n",
       "    </tr>\n",
       "    <tr>\n",
       "      <th>585</th>\n",
       "      <td>21</td>\n",
       "      <td>Care dintre următorii hormoni au rol predomina...</td>\n",
       "      <td>single-choice</td>\n",
       "      <td>[A. hormonul somatotrop, B. testosteronul, C. ...</td>\n",
       "      <td>facultate</td>\n",
       "      <td>admitere</td>\n",
       "      <td>2020</td>\n",
       "      <td>C</td>\n",
       "      <td>UMF Brasov</td>\n",
       "      <td>metabolismul/varianta_A</td>\n",
       "      <td>None</td>\n",
       "      <td>&lt;|begin_of_text|&gt;&lt;|start_header_id|&gt;system&lt;|en...</td>\n",
       "      <td>C</td>\n",
       "      <td>[C, A, B, D, E, R, F, M, V, S]</td>\n",
       "      <td>[27.479848861694336, 25.796890258789062, 25.41...</td>\n",
       "    </tr>\n",
       "    <tr>\n",
       "      <th>586</th>\n",
       "      <td>11</td>\n",
       "      <td>Despre rolurile lipidelor în organism nu se po...</td>\n",
       "      <td>single-choice</td>\n",
       "      <td>[A. lipidele aflate în organism reprezintă o r...</td>\n",
       "      <td>facultate</td>\n",
       "      <td>admitere</td>\n",
       "      <td>2020</td>\n",
       "      <td>A</td>\n",
       "      <td>UMF Brasov</td>\n",
       "      <td>metabolismul/varianta_A</td>\n",
       "      <td>None</td>\n",
       "      <td>&lt;|begin_of_text|&gt;&lt;|start_header_id|&gt;system&lt;|en...</td>\n",
       "      <td>C</td>\n",
       "      <td>[C, B, D, E, A, R, O, F, M, P]</td>\n",
       "      <td>[24.079145431518555, 23.989465713500977, 23.46...</td>\n",
       "    </tr>\n",
       "    <tr>\n",
       "      <th>587</th>\n",
       "      <td>8</td>\n",
       "      <td>Care dintre următoarele afirmații este incorectă?</td>\n",
       "      <td>single-choice</td>\n",
       "      <td>[A. glucoza intră în compoziția chilomicronilo...</td>\n",
       "      <td>facultate</td>\n",
       "      <td>admitere</td>\n",
       "      <td>2020</td>\n",
       "      <td>A</td>\n",
       "      <td>UMF Brasov</td>\n",
       "      <td>metabolismul/varianta_A</td>\n",
       "      <td>None</td>\n",
       "      <td>&lt;|begin_of_text|&gt;&lt;|start_header_id|&gt;system&lt;|en...</td>\n",
       "      <td>A</td>\n",
       "      <td>[A, B, C, E, D, R, Let, r, O, L]</td>\n",
       "      <td>[21.752790451049805, 20.564437866210938, 20.24...</td>\n",
       "    </tr>\n",
       "  </tbody>\n",
       "</table>\n",
       "<p>588 rows × 15 columns</p>\n",
       "</div>"
      ],
      "text/plain": [
       "    question_number                                           question  \\\n",
       "0                30                Următorul reflex este monosinaptic:   \n",
       "1                25  Axonii neuronilor olfactivi străbat lama ciuru...   \n",
       "2                24                                     Astigmatismul:   \n",
       "3                22                Structuri bogat vascularizate sunt:   \n",
       "4                20                                      Arcul reflex:   \n",
       "..              ...                                                ...   \n",
       "583              39  Glicoliza anaerobă se caracterizează prin urmă...   \n",
       "584               1  Alegeți afirmația incorectă referitoare la aci...   \n",
       "585              21  Care dintre următorii hormoni au rol predomina...   \n",
       "586              11  Despre rolurile lipidelor în organism nu se po...   \n",
       "587               8  Care dintre următoarele afirmații este incorectă?   \n",
       "\n",
       "              type                                            options  \\\n",
       "0    single-choice  [A. rotulian, B. cardioaccelerator, C. de apăr...   \n",
       "1    single-choice  [A. etmoid, B. sfenoid, C. zigomatic, D. frontal]   \n",
       "2    single-choice  [A. este un defect care nu afectează sistemul ...   \n",
       "3    single-choice  [A. coroida, dermul, B. corneea, mucoasa nazal...   \n",
       "4    single-choice  [A. este format din 3 componente, B. reprezint...   \n",
       "..             ...                                                ...   \n",
       "583  single-choice  [A. randament foarte ridicat, B. transformarea...   \n",
       "584  single-choice  [A. prin reacția de beta-oxidare duc la formar...   \n",
       "585  single-choice  [A. hormonul somatotrop, B. testosteronul, C. ...   \n",
       "586  single-choice  [A. lipidele aflate în organism reprezintă o r...   \n",
       "587  single-choice  [A. glucoza intră în compoziția chilomicronilo...   \n",
       "\n",
       "         grade     stage  year right_answer      source  \\\n",
       "0          VII    locala  2018            A   olimpiada   \n",
       "1          VII    locala  2018            A   olimpiada   \n",
       "2          VII    locala  2018            C   olimpiada   \n",
       "3          VII    locala  2018            A   olimpiada   \n",
       "4          VII    locala  2018            B   olimpiada   \n",
       "..         ...       ...   ...          ...         ...   \n",
       "583  facultate  admitere  2020            A  UMF Brasov   \n",
       "584  facultate  admitere  2020            C  UMF Brasov   \n",
       "585  facultate  admitere  2020            C  UMF Brasov   \n",
       "586  facultate  admitere  2020            A  UMF Brasov   \n",
       "587  facultate  admitere  2020            A  UMF Brasov   \n",
       "\n",
       "                id_in_source dupe_id  \\\n",
       "0                       arad    None   \n",
       "1                       arad    None   \n",
       "2                       arad    None   \n",
       "3                       arad    None   \n",
       "4                       arad    None   \n",
       "..                       ...     ...   \n",
       "583  metabolismul/varianta_B    None   \n",
       "584  metabolismul/varianta_B    None   \n",
       "585  metabolismul/varianta_A    None   \n",
       "586  metabolismul/varianta_A    None   \n",
       "587  metabolismul/varianta_A    None   \n",
       "\n",
       "                                                  chat pred  \\\n",
       "0    <|begin_of_text|><|start_header_id|>system<|en...    A   \n",
       "1    <|begin_of_text|><|start_header_id|>system<|en...    A   \n",
       "2    <|begin_of_text|><|start_header_id|>system<|en...    C   \n",
       "3    <|begin_of_text|><|start_header_id|>system<|en...    A   \n",
       "4    <|begin_of_text|><|start_header_id|>system<|en...    B   \n",
       "..                                                 ...  ...   \n",
       "583  <|begin_of_text|><|start_header_id|>system<|en...    D   \n",
       "584  <|begin_of_text|><|start_header_id|>system<|en...    A   \n",
       "585  <|begin_of_text|><|start_header_id|>system<|en...    C   \n",
       "586  <|begin_of_text|><|start_header_id|>system<|en...    C   \n",
       "587  <|begin_of_text|><|start_header_id|>system<|en...    A   \n",
       "\n",
       "                         top_k_tokens  \\\n",
       "0      [A, B, D, C, R, V, E, U, M, S]   \n",
       "1      [A, B, C, D, E, S, R, M, V, T]   \n",
       "2      [C, B, A, D, R, E, M, V, L, O]   \n",
       "3      [A, B, D, C, R, E, V, M, S, P]   \n",
       "4      [B, A, C, D, R, E, T, V, S, O]   \n",
       "..                                ...   \n",
       "583    [D, B, E, A, C, R, G, O, F, S]   \n",
       "584    [A, C, B, E, D, R, O, M, L, F]   \n",
       "585    [C, A, B, D, E, R, F, M, V, S]   \n",
       "586    [C, B, D, E, A, R, O, F, M, P]   \n",
       "587  [A, B, C, E, D, R, Let, r, O, L]   \n",
       "\n",
       "                                          top_k_scores  \n",
       "0    [27.942733764648438, 27.89405059814453, 27.470...  \n",
       "1    [29.128841400146484, 28.690753936767578, 25.94...  \n",
       "2    [26.928300857543945, 25.83871841430664, 25.774...  \n",
       "3    [26.416179656982422, 26.19873046875, 25.524808...  \n",
       "4    [28.546669006347656, 27.383541107177734, 27.12...  \n",
       "..                                                 ...  \n",
       "583  [25.47475814819336, 24.43821144104004, 24.4042...  \n",
       "584  [22.201313018798828, 21.998310089111328, 21.82...  \n",
       "585  [27.479848861694336, 25.796890258789062, 25.41...  \n",
       "586  [24.079145431518555, 23.989465713500977, 23.46...  \n",
       "587  [21.752790451049805, 20.564437866210938, 20.24...  \n",
       "\n",
       "[588 rows x 15 columns]"
      ]
     },
     "execution_count": 10,
     "metadata": {},
     "output_type": "execute_result"
    }
   ],
   "source": [
    "import pandas as pd\n",
    "test_df = pd.DataFrame(test_ds)\n",
    "answers_df = pd.DataFrame(answers).rename(columns={'output': 'pred'})\n",
    "\n",
    "answers_df = test_df.join(answers_df)\n",
    "answers_df"
   ]
  },
  {
   "cell_type": "markdown",
   "metadata": {},
   "source": [
    "Show ground truth:"
   ]
  },
  {
   "cell_type": "code",
   "execution_count": 16,
   "metadata": {},
   "outputs": [
    {
     "data": {
      "text/plain": [
       "right_answer\n",
       "C    185\n",
       "D    147\n",
       "B    147\n",
       "A     98\n",
       "E     11\n",
       "Name: count, dtype: int64"
      ]
     },
     "execution_count": 16,
     "metadata": {},
     "output_type": "execute_result"
    }
   ],
   "source": [
    "answers_df['right_answer'].value_counts()"
   ]
  },
  {
   "cell_type": "markdown",
   "metadata": {},
   "source": [
    "Show predictions:"
   ]
  },
  {
   "cell_type": "code",
   "execution_count": 11,
   "metadata": {},
   "outputs": [
    {
     "data": {
      "text/plain": [
       "pred\n",
       "B    196\n",
       "A    184\n",
       "C    135\n",
       "D     70\n",
       "E      3\n",
       "Name: count, dtype: int64"
      ]
     },
     "execution_count": 11,
     "metadata": {},
     "output_type": "execute_result"
    }
   ],
   "source": [
    "answers_df['pred'].value_counts()"
   ]
  },
  {
   "cell_type": "markdown",
   "metadata": {},
   "source": [
    "Compute accuracy:"
   ]
  },
  {
   "cell_type": "code",
   "execution_count": 13,
   "metadata": {},
   "outputs": [
    {
     "name": "stdout",
     "output_type": "stream",
     "text": [
      "Accuracy: 30.61%\n"
     ]
    },
    {
     "data": {
      "text/plain": [
       "correct\n",
       "False    408\n",
       "True     180\n",
       "Name: count, dtype: int64"
      ]
     },
     "execution_count": 13,
     "metadata": {},
     "output_type": "execute_result"
    }
   ],
   "source": [
    "answers_df['correct'] = answers_df['right_answer'] == answers_df['pred']\n",
    "print(f'Accuracy: {answers_df[\"correct\"].mean() * 100:.2f}%')\n",
    "answers_df['correct'].value_counts()"
   ]
  },
  {
   "cell_type": "markdown",
   "metadata": {},
   "source": [
    "Show a confusion matrix.\n",
    "\n",
    "A confusion matrix is a table that is used to evaluate the performance of a classification model.\n",
    "It shows the number of correct and incorrect predictions for each class.\n",
    "\n",
    "On Y we have the true labels and on X we have the predicted labels.\n",
    "\n",
    "When a model has a high accuracy, the confusion matrix should have a strong first diagonal, where there are many values for A=A, B=B, C=C, etc.  \n",
    "When the confusion matrix is spread out, more diffused, the model has a hard time distinguishing between classes. (A=>B, A=>C, B=>A, C=>D, etc.)"
   ]
  },
  {
   "cell_type": "code",
   "execution_count": 17,
   "metadata": {},
   "outputs": [
    {
     "data": {
      "image/png": "[encoded data removed]",
      "text/plain": [
       "<Figure size 800x800 with 2 Axes>"
      ]
     },
     "metadata": {},
     "output_type": "display_data"
    }
   ],
   "source": [
    "from sklearn.metrics import confusion_matrix\n",
    "import matplotlib.pyplot as plt\n",
    "import numpy as np\n",
    "\n",
    "def show_confusion_matrix(df):\n",
    "    # Extract true and predicted labels\n",
    "    y_true = df['right_answer'].tolist()\n",
    "    y_pred = df['pred'].tolist()\n",
    "\n",
    "    # Get unique labels in sorted order\n",
    "    labels = sorted(list(set(y_true + y_pred)))\n",
    "\n",
    "    # Create confusion matrix\n",
    "    cm = confusion_matrix(y_true, y_pred, labels=labels)\n",
    "\n",
    "    # Create figure and axis\n",
    "    fig, ax = plt.subplots(figsize=(8, 8))\n",
    "    \n",
    "    # Create heatmap with origin='lower' to start from bottom\n",
    "    im = ax.imshow(cm, cmap='Blues', origin='lower')\n",
    "\n",
    "    # Add colorbar\n",
    "    plt.colorbar(im)\n",
    "\n",
    "    # Show all ticks and label them\n",
    "    ax.set_xticks(np.arange(len(labels)))\n",
    "    ax.set_yticks(np.arange(len(labels)))\n",
    "    ax.set_xticklabels(labels)\n",
    "    ax.set_yticklabels(labels)\n",
    "\n",
    "    # Rotate the tick labels and set their alignment\n",
    "    plt.setp(ax.get_xticklabels(), rotation=45, ha=\"right\", rotation_mode=\"anchor\")\n",
    "\n",
    "    # Loop over data dimensions and create text annotations\n",
    "    for i in range(len(labels)):\n",
    "        for j in range(len(labels)):\n",
    "            text = ax.text(j, i, cm[i, j],\n",
    "                         ha=\"center\", va=\"center\", color=\"black\")\n",
    "\n",
    "    # Add labels and title\n",
    "    ax.set_title('Confusion Matrix')\n",
    "    ax.set_xlabel('Predicted')\n",
    "    ax.set_ylabel('True')\n",
    "\n",
    "    # Ensure the plot is tight in the figure\n",
    "    plt.tight_layout()\n",
    "    \n",
    "    plt.show()\n",
    "\n",
    "show_confusion_matrix(answers_df)"
   ]
  },
  {
   "cell_type": "markdown",
   "metadata": {},
   "source": [
    "As you can observe, the model is not very confident about its predictions.  \n",
    "The confusion matrix should show a strong 1st degree diagonal, but the answers are spread over the entire matrix."
   ]
  },
  {
   "cell_type": "markdown",
   "metadata": {},
   "source": [
    "Let's inspect the individual predictions and look at:\n",
    "- the top 10 predicted tokens and their scores\n",
    "- the softmax scores for the top 10 tokens"
   ]
  },
  {
   "cell_type": "code",
   "execution_count": 14,
   "metadata": {},
   "outputs": [
    {
     "data": {
      "application/vnd.jupyter.widget-view+json": {
       "model_id": "c73f06ba22354216bb7680a77ecafacd",
       "version_major": 2,
       "version_minor": 0
      },
      "text/plain": [
       "HBox(children=(Button(description='Previous', style=ButtonStyle()), Button(description='Next', style=ButtonSty…"
      ]
     },
     "metadata": {},
     "output_type": "display_data"
    },
    {
     "name": "stdout",
     "output_type": "stream",
     "text": [
      "\n",
      "Următorul reflex este monosinaptic:\n",
      "A. rotulian\n",
      "B. cardioaccelerator\n",
      "C. de apărare\n",
      "D. vasoconstrictor\n",
      "\n",
      "✅A: 35.86%\n",
      "---\n",
      "❌B: 34.16%\n",
      "❌D: 22.37%\n",
      "❌C: 7.59%\n",
      "\n"
     ]
    },
    {
     "data": {
      "image/png": "[encoded data removed]",
      "text/plain": [
       "<Figure size 1200x600 with 3 Axes>"
      ]
     },
     "metadata": {},
     "output_type": "display_data"
    }
   ],
   "source": [
    "import matplotlib.pyplot as plt\n",
    "def show_chart_for_row(row, index):\n",
    "    NL = '\\n'\n",
    "    row_scores = row['top_k_scores']\n",
    "    row_scores_softmax = torch.softmax(torch.tensor(row_scores), dim=0).numpy()  #\n",
    "    row_tokens = row['top_k_tokens']\n",
    "\n",
    "    print(f'''\n",
    "{row.question}\n",
    "{NL.join(row.options)}\n",
    "\n",
    "{\"✅\" if row.right_answer == row_tokens[0] else \"❌\"}{row_tokens[0]}: {row_scores_softmax[0] * 100:.2f}%\n",
    "---\n",
    "{NL.join([f'{\"✅\" if row.right_answer == t else \"❌\"}{t}: {s * 100:.2f}%' for t, s in zip(row_tokens, row_scores_softmax)][1:len(row.options)])}\n",
    "''')\n",
    "\n",
    "    # Create figure with two y-axes\n",
    "    fig, ax1 = plt.subplots(figsize=(12, 6))\n",
    "    ax2 = ax1.twinx()\n",
    "    ax3 = ax1.twinx()\n",
    "    \n",
    "    # Set the position of the third y-axis\n",
    "    ax3.spines['right'].set_position(('axes', 1.15))\n",
    "\n",
    "    # Plot raw scores\n",
    "    x = np.arange(len(row_tokens))\n",
    "    raw_bars = ax1.bar(x - 0.2, row_scores, 0.4, label='Raw Scores', color='#1f77b4')\n",
    "    ax1.bar_label(raw_bars, fmt='%.2f', padding=3)\n",
    "    \n",
    "    # Plot softmax scores\n",
    "    softmax_bars = ax2.bar(x + 0.2, row_scores_softmax, 0.4, label='Softmax Scores', color='#ff7f0e')\n",
    "    ax2.bar_label(softmax_bars, fmt='%.2f', padding=3)\n",
    "    \n",
    "    # Plot right answer indicator\n",
    "    right_answer_values = [1 if token == row.right_answer else 0 for token in row_tokens]\n",
    "    right_bars = ax3.bar(x, right_answer_values, 0.2, label='Right Answer', color='limegreen')\n",
    "    \n",
    "    # Set labels and title\n",
    "    ax1.set_xlabel('Tokens')\n",
    "    ax1.set_ylabel('Raw Scores')\n",
    "    ax2.set_ylabel('Softmax Scores')\n",
    "    ax3.set_ylabel('Right Answer')\n",
    "    \n",
    "    plt.title(f'Top-K Token Scores for {row.question_number=} / {index=}')\n",
    "    \n",
    "    # Set x-axis ticks\n",
    "    plt.xticks(x, row_tokens)\n",
    "    \n",
    "    # Set y-axis limits for right answer indicator\n",
    "    ax3.set_ylim(0, 1.2)\n",
    "    ax3.set_yticks([])  # Hide y-ticks for right answer\n",
    "    \n",
    "    # Hide all spines and labels for ax3\n",
    "    ax3.set_frame_on(False)\n",
    "    ax3.set_ylabel('')\n",
    "    \n",
    "    # Add legend\n",
    "    lines1, labels1 = ax1.get_legend_handles_labels()\n",
    "    lines2, labels2 = ax2.get_legend_handles_labels()\n",
    "    lines3, labels3 = ax3.get_legend_handles_labels()\n",
    "    ax1.legend(lines1 + lines2 + lines3, labels1 + labels2 + labels3, \n",
    "              loc='upper right', bbox_to_anchor=(1.25, 1))\n",
    "    \n",
    "    plt.tight_layout()\n",
    "    plt.show()\n",
    "\n",
    "# Create buttons for navigation\n",
    "from ipywidgets import Button, HBox, widgets\n",
    "import IPython.display as display\n",
    "\n",
    "current_index = 0\n",
    "\n",
    "def show_prev(_):\n",
    "    global current_index\n",
    "    current_index = max(0, current_index - 1)\n",
    "    display.clear_output(wait=True)\n",
    "    display_buttons()\n",
    "    show_chart_for_row(answers_df.iloc[current_index], current_index)\n",
    "\n",
    "def show_next(_):\n",
    "    global current_index \n",
    "    current_index = min(len(answers_df) - 1, current_index + 1)\n",
    "    display.clear_output(wait=True)\n",
    "    display_buttons()\n",
    "    show_chart_for_row(answers_df.iloc[current_index], current_index)\n",
    "\n",
    "def on_index_change(change):\n",
    "    global current_index\n",
    "    current_index = max(0, min(change.new, len(answers_df)-1))\n",
    "    display.clear_output(wait=True)\n",
    "    display_buttons()\n",
    "    show_chart_for_row(answers_df.iloc[current_index], current_index)\n",
    "\n",
    "def display_buttons():\n",
    "    prev_button = Button(description='Previous')\n",
    "    next_button = Button(description='Next')\n",
    "    index_input = widgets.IntText(\n",
    "        value=current_index,\n",
    "        description='Index:',\n",
    "        min=0,\n",
    "        max=len(answers_df)-1\n",
    "    )\n",
    "    prev_button.on_click(show_prev)\n",
    "    next_button.on_click(show_next)\n",
    "    index_input.observe(on_index_change, names='value')\n",
    "    display.display(HBox([prev_button, next_button, index_input]))\n",
    "\n",
    "# Show initial chart and buttons\n",
    "display_buttons()\n",
    "show_chart_for_row(answers_df.iloc[current_index], current_index)"
   ]
  },
  {
   "cell_type": "markdown",
   "metadata": {},
   "source": [
    "Here are a few observations:\n",
    "- Index 0:\n",
    "  - Model is not confident in its prediction, having A and B with similar scores (36%, 34% respectively)\n",
    "  - The correct answer is A (36%) which is the one predicted, but confidence is low\n",
    "- Index 2:\n",
    "  - Model is somewhat confident in it's prediction of C (59%) which is correct\n",
    "- Index 5: \n",
    "  - Model is not confident, and the correct answer (C) is 4th on the list of probabilities (15%)\n",
    "- Index 8:\n",
    "  - Model is somewhat confidently wrong, having picked D (53%) instead of the correct answer A (15%)\n",
    "- Index 16, 19, 20: \n",
    "  - Strong confidence in the correct answer\n",
    "- Index 34:\n",
    "  - Strong confidence in the wrong answer"
   ]
  },
  {
   "cell_type": "markdown",
   "metadata": {},
   "source": [
    "Let's add softmax to our dataframe and filter based on a confidence threshold."
   ]
  },
  {
   "cell_type": "code",
   "execution_count": 15,
   "metadata": {},
   "outputs": [],
   "source": [
    "answers_df['top_k_scores_softmax'] = answers_df['top_k_scores'].apply(lambda x: torch.softmax(torch.tensor(x), dim=0).numpy())\n",
    "confident_threshold = 0.5\n",
    "confident_answers = answers_df[answers_df['top_k_scores_softmax'].apply(lambda x: x[0] > confident_threshold)]"
   ]
  },
  {
   "cell_type": "code",
   "execution_count": 16,
   "metadata": {},
   "outputs": [
    {
     "name": "stdout",
     "output_type": "stream",
     "text": [
      "Confident answers: 29.76%\n",
      "Accuracy: 42.86%\n"
     ]
    }
   ],
   "source": [
    "print(f'Confident answers: {confident_answers.shape[0] / answers_df.shape[0] * 100:.2f}%')\n",
    "print(f'Accuracy: {confident_answers[\"correct\"].mean() * 100:.2f}%')"
   ]
  },
  {
   "cell_type": "markdown",
   "metadata": {},
   "source": [
    "We can see that about 30% of the answers are confident at a 50% threshold.  \n",
    "The accuracy is also increased to 42%"
   ]
  },
  {
   "cell_type": "markdown",
   "metadata": {},
   "source": [
    "Showing the confusion matrix one more time, we can see that the first diagonal is much stronger."
   ]
  },
  {
   "cell_type": "code",
   "execution_count": 17,
   "metadata": {},
   "outputs": [
    {
     "data": {
      "image/png": "[encoded data removed]",
      "text/plain": [
       "<Figure size 800x800 with 2 Axes>"
      ]
     },
     "metadata": {},
     "output_type": "display_data"
    }
   ],
   "source": [
    "show_confusion_matrix(confident_answers)"
   ]
  },
  {
   "cell_type": "code",
   "execution_count": null,
   "metadata": {},
   "outputs": [],
   "source": []
  }
 ],
 "metadata": {
  "kernelspec": {
   "display_name": ".venv",
   "language": "python",
   "name": "python3"
  },
  "language_info": {
   "codemirror_mode": {
    "name": "ipython",
    "version": 3
   },
   "file_extension": ".py",
   "mimetype": "text/x-python",
   "name": "python",
   "nbconvert_exporter": "python",
   "pygments_lexer": "ipython3",
   "version": "3.10.15"
  }
 },
 "nbformat": 4,
 "nbformat_minor": 2
}
